{
 "cells": [
  {
   "cell_type": "markdown",
   "metadata": {},
   "source": [
    "## Set up"
   ]
  },
  {
   "cell_type": "code",
   "execution_count": 9,
   "metadata": {},
   "outputs": [],
   "source": [
    "from pandas import *\n",
    "from queryWikidata import query_wikidata\n",
    "import json"
   ]
  },
  {
   "cell_type": "code",
   "execution_count": 2,
   "metadata": {},
   "outputs": [],
   "source": [
    "endpoint = \"https://query.wikidata.org/sparql\"\n",
    "user_agent = \"Mozilla/5.0 (Macintosh; Intel Mac OS X 10.15; rv:105.0) Gecko/20100101 Firefox/105.0\""
   ]
  },
  {
   "cell_type": "markdown",
   "metadata": {},
   "source": [
    "## 1 Analysis of Wikipedia categories' content"
   ]
  },
  {
   "cell_type": "markdown",
   "metadata": {},
   "source": [
    "### 1.1 Films based on Italian novels"
   ]
  },
  {
   "cell_type": "code",
   "execution_count": 33,
   "metadata": {},
   "outputs": [],
   "source": [
    "with open(\"../categories/Films_based_on_Italian_novels.json\", mode=\"r\", encoding=\"utf-8\") as f:\n",
    "    film_italian_novels = json.load(f)"
   ]
  },
  {
   "cell_type": "code",
   "execution_count": 34,
   "metadata": {},
   "outputs": [
    {
     "name": "stdout",
     "output_type": "stream",
     "text": [
      "229\n",
      "229\n"
     ]
    }
   ],
   "source": [
    "ita_films_set = set()\n",
    "x = 0\n",
    "for main_key in film_italian_novels:\n",
    "    x += film_italian_novels[main_key][\"tot\"]\n",
    "    for i in film_italian_novels[main_key][\"pages\"]:\n",
    "        ita_films_set.add(i)\n",
    "print(x)\n",
    "print(len(ita_films_set))"
   ]
  },
  {
   "cell_type": "code",
   "execution_count": 35,
   "metadata": {},
   "outputs": [
    {
     "name": "stdout",
     "output_type": "stream",
     "text": [
      "Tot films after disabiguation:  225\n"
     ]
    }
   ],
   "source": [
    "for page in list(ita_films_set):\n",
    "    if '(' in page and 'film' not in page:\n",
    "        ita_films_set.remove(page)\n",
    "print(\"Tot films after disabiguation: \", len(ita_films_set))"
   ]
  },
  {
   "cell_type": "markdown",
   "metadata": {},
   "source": [
    "### 1.2 Films based on novels"
   ]
  },
  {
   "cell_type": "code",
   "execution_count": 28,
   "metadata": {},
   "outputs": [],
   "source": [
    "with open(\"../categories/Films_based_on_novels.json\", mode=\"r\", encoding=\"utf-8\") as f:\n",
    "    film_novels = json.load(f)"
   ]
  },
  {
   "cell_type": "code",
   "execution_count": 29,
   "metadata": {},
   "outputs": [
    {
     "name": "stdout",
     "output_type": "stream",
     "text": [
      "Tot entries for films based on novels:  15574\n",
      "Tot films based on novels without repeated ones:  13293\n"
     ]
    }
   ],
   "source": [
    "count = 0\n",
    "films_set = set()\n",
    "\n",
    "for main_key in film_novels:\n",
    "    count += film_novels[main_key][\"tot\"]\n",
    "    for i in film_novels[main_key][\"pages\"]:\n",
    "        films_set.add(i)\n",
    "print(\"Tot entries for films based on novels: \", count)\n",
    "print(\"Tot films based on novels without repeated ones: \", len(films_set))"
   ]
  },
  {
   "cell_type": "code",
   "execution_count": 31,
   "metadata": {},
   "outputs": [
    {
     "name": "stdout",
     "output_type": "stream",
     "text": [
      "Tot films after disabiguation:  12965\n"
     ]
    }
   ],
   "source": [
    "for page in list(films_set):\n",
    "    if '(' in page and 'film' not in page:\n",
    "        films_set.remove(page)\n",
    "print(\"Tot films after disabiguation: \", len(films_set))"
   ]
  },
  {
   "cell_type": "markdown",
   "metadata": {},
   "source": [
    "## 2 Wikidata queries"
   ]
  },
  {
   "cell_type": "markdown",
   "metadata": {},
   "source": [
    "### 2.1 Retrieve \"films based on literary works\""
   ]
  },
  {
   "cell_type": "code",
   "execution_count": 19,
   "metadata": {},
   "outputs": [
    {
     "data": {
      "text/html": [
       "<div>\n",
       "<style scoped>\n",
       "    .dataframe tbody tr th:only-of-type {\n",
       "        vertical-align: middle;\n",
       "    }\n",
       "\n",
       "    .dataframe tbody tr th {\n",
       "        vertical-align: top;\n",
       "    }\n",
       "\n",
       "    .dataframe thead th {\n",
       "        text-align: right;\n",
       "    }\n",
       "</style>\n",
       "<table border=\"1\" class=\"dataframe\">\n",
       "  <thead>\n",
       "    <tr style=\"text-align: right;\">\n",
       "      <th></th>\n",
       "      <th>film</th>\n",
       "    </tr>\n",
       "  </thead>\n",
       "  <tbody>\n",
       "    <tr>\n",
       "      <th>0</th>\n",
       "      <td>9496</td>\n",
       "    </tr>\n",
       "  </tbody>\n",
       "</table>\n",
       "</div>"
      ],
      "text/plain": [
       "   film\n",
       "0  9496"
      ]
     },
     "execution_count": 19,
     "metadata": {},
     "output_type": "execute_result"
    }
   ],
   "source": [
    "fblw_query =\"\"\"\n",
    "SELECT (COUNT(DISTINCT ?film) AS ?film)\n",
    "WHERE {\n",
    "\n",
    "    ?film wdt:P31/wdt:P279* wd:Q11424 .\n",
    "    ?novel wdt:P31/wdt:P279* wd:Q7725634 .\n",
    "    # ?novel wdt:P7937 wd:Q8261 .\n",
    "    ?film wdt:P144 ?novel . \n",
    "\n",
    "    SERVICE wikibase:label { bd:serviceParam wikibase:language \"en\". }\n",
    "}\n",
    "\"\"\"\n",
    "films_based_on_literary_works = query_wikidata(endpoint, fblw_query, user_agent, True)\n",
    "films_based_on_literary_works"
   ]
  },
  {
   "cell_type": "markdown",
   "metadata": {},
   "source": [
    "### 2.2 Retrieve \"films based on novels\""
   ]
  },
  {
   "cell_type": "code",
   "execution_count": 20,
   "metadata": {},
   "outputs": [
    {
     "data": {
      "text/html": [
       "<div>\n",
       "<style scoped>\n",
       "    .dataframe tbody tr th:only-of-type {\n",
       "        vertical-align: middle;\n",
       "    }\n",
       "\n",
       "    .dataframe tbody tr th {\n",
       "        vertical-align: top;\n",
       "    }\n",
       "\n",
       "    .dataframe thead th {\n",
       "        text-align: right;\n",
       "    }\n",
       "</style>\n",
       "<table border=\"1\" class=\"dataframe\">\n",
       "  <thead>\n",
       "    <tr style=\"text-align: right;\">\n",
       "      <th></th>\n",
       "      <th>film</th>\n",
       "    </tr>\n",
       "  </thead>\n",
       "  <tbody>\n",
       "    <tr>\n",
       "      <th>0</th>\n",
       "      <td>4959</td>\n",
       "    </tr>\n",
       "  </tbody>\n",
       "</table>\n",
       "</div>"
      ],
      "text/plain": [
       "   film\n",
       "0  4959"
      ]
     },
     "execution_count": 20,
     "metadata": {},
     "output_type": "execute_result"
    }
   ],
   "source": [
    "fbn_query = \"\"\"\n",
    "SELECT (COUNT(DISTINCT ?film) AS ?film)\n",
    "WHERE {\n",
    "\n",
    "    ?film wdt:P31/wdt:P279* wd:Q11424 .\n",
    "    #?novel wdt:P31/wdt:P279* wd:Q7725634 .\n",
    "    ?novel wdt:P7937 wd:Q8261 .\n",
    "    ?film wdt:P144 ?novel . \n",
    "\n",
    "    SERVICE wikibase:label { bd:serviceParam wikibase:language \"en\". }\n",
    "}\n",
    "\"\"\"\n",
    "films_based_on_novels = query_wikidata(endpoint, fbn_query, user_agent, True)\n",
    "films_based_on_novels"
   ]
  },
  {
   "cell_type": "markdown",
   "metadata": {},
   "source": [
    "### 2.3 Retrieve \"films based on novels\" excluding the ones that cannot be fount on the English Wikipedia"
   ]
  },
  {
   "cell_type": "code",
   "execution_count": 21,
   "metadata": {},
   "outputs": [
    {
     "data": {
      "text/html": [
       "<div>\n",
       "<style scoped>\n",
       "    .dataframe tbody tr th:only-of-type {\n",
       "        vertical-align: middle;\n",
       "    }\n",
       "\n",
       "    .dataframe tbody tr th {\n",
       "        vertical-align: top;\n",
       "    }\n",
       "\n",
       "    .dataframe thead th {\n",
       "        text-align: right;\n",
       "    }\n",
       "</style>\n",
       "<table border=\"1\" class=\"dataframe\">\n",
       "  <thead>\n",
       "    <tr style=\"text-align: right;\">\n",
       "      <th></th>\n",
       "      <th>film</th>\n",
       "    </tr>\n",
       "  </thead>\n",
       "  <tbody>\n",
       "    <tr>\n",
       "      <th>0</th>\n",
       "      <td>3987</td>\n",
       "    </tr>\n",
       "  </tbody>\n",
       "</table>\n",
       "</div>"
      ],
      "text/plain": [
       "   film\n",
       "0  3987"
      ]
     },
     "execution_count": 21,
     "metadata": {},
     "output_type": "execute_result"
    }
   ],
   "source": [
    "fbn_enwiki_query = \"\"\"\n",
    "SELECT (COUNT(DISTINCT ?film) AS ?film)\n",
    "WHERE {\n",
    "\n",
    "    ?film wdt:P31/wdt:P279* wd:Q11424 .\n",
    "    ?novel wdt:P7937 wd:Q8261 .\n",
    "    ?film wdt:P144 ?novel .\n",
    "    \n",
    "    ?wikipage schema:about ?film .\n",
    "    ?wikipage schema:isPartOf <https://en.wikipedia.org/>;\n",
    "                \n",
    "    SERVICE wikibase:label { bd:serviceParam wikibase:language \"en\". }\n",
    "}\n",
    "\"\"\"\n",
    "films_based_on_novels_enwiki = query_wikidata(endpoint, fbn_enwiki_query, user_agent, True)\n",
    "films_based_on_novels_enwiki"
   ]
  }
 ],
 "metadata": {
  "kernelspec": {
   "display_name": "Python 3.10.0 64-bit",
   "language": "python",
   "name": "python3"
  },
  "language_info": {
   "codemirror_mode": {
    "name": "ipython",
    "version": 3
   },
   "file_extension": ".py",
   "mimetype": "text/x-python",
   "name": "python",
   "nbconvert_exporter": "python",
   "pygments_lexer": "ipython3",
   "version": "3.10.0"
  },
  "orig_nbformat": 4,
  "vscode": {
   "interpreter": {
    "hash": "aee8b7b246df8f9039afb4144a1f6fd8d2ca17a180786b69acc140d282b71a49"
   }
  }
 },
 "nbformat": 4,
 "nbformat_minor": 2
}
