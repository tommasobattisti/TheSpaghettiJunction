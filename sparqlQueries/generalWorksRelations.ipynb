{
 "cells": [
  {
   "cell_type": "markdown",
   "metadata": {},
   "source": [
    "# Retrieving derivative works from Wikidata"
   ]
  },
  {
   "cell_type": "markdown",
   "metadata": {},
   "source": [
    "Note that in this notebook works can be of any kind. This means that we are not dealing with particular creative works or works of art. In fact, in the result every work authored by someone can be found, from buildings to poems."
   ]
  },
  {
   "cell_type": "code",
   "execution_count": 1,
   "metadata": {},
   "outputs": [],
   "source": [
    "from pandas import *\n",
    "from queryWikidata import query_wikidata"
   ]
  },
  {
   "cell_type": "code",
   "execution_count": 2,
   "metadata": {},
   "outputs": [],
   "source": [
    "endpoint = \"https://query.wikidata.org/sparql\"\n",
    "user_agent = \"Mozilla/5.0 (Macintosh; Intel Mac OS X 10.15; rv:105.0) Gecko/20100101 Firefox/105.0\""
   ]
  },
  {
   "cell_type": "markdown",
   "metadata": {},
   "source": [
    "## 1) Count all the derivative works present on Wikidata\n",
    "\n",
    "To do that, we rely on the following properties:\n",
    "- P737 influenced by\n",
    "- P144 based on\n",
    "- P941 inspired by\n",
    "- P8371 references work\n",
    "- P4969 derivative work\n",
    "- P58 screenwriter\n",
    "- P1877 after a work by\n",
    "- P674 characters\n",
    "- P170 creator\n",
    "- P50 author\n",
    "\n"
   ]
  },
  {
   "cell_type": "markdown",
   "metadata": {},
   "source": [
    "### 1.1 Properties based definition of works and derivative works\n",
    "\n",
    "Works and derivative works are defined only on the basis of the relationship occurring between them."
   ]
  },
  {
   "cell_type": "code",
   "execution_count": 3,
   "metadata": {},
   "outputs": [
    {
     "data": {
      "text/html": [
       "<div>\n",
       "<style scoped>\n",
       "    .dataframe tbody tr th:only-of-type {\n",
       "        vertical-align: middle;\n",
       "    }\n",
       "\n",
       "    .dataframe tbody tr th {\n",
       "        vertical-align: top;\n",
       "    }\n",
       "\n",
       "    .dataframe thead th {\n",
       "        text-align: right;\n",
       "    }\n",
       "</style>\n",
       "<table border=\"1\" class=\"dataframe\">\n",
       "  <thead>\n",
       "    <tr style=\"text-align: right;\">\n",
       "      <th></th>\n",
       "      <th>derivativeWorksCount</th>\n",
       "    </tr>\n",
       "  </thead>\n",
       "  <tbody>\n",
       "    <tr>\n",
       "      <th>0</th>\n",
       "      <td>87362</td>\n",
       "    </tr>\n",
       "  </tbody>\n",
       "</table>\n",
       "</div>"
      ],
      "text/plain": [
       "   derivativeWorksCount\n",
       "0                 87362"
      ]
     },
     "execution_count": 3,
     "metadata": {},
     "output_type": "execute_result"
    }
   ],
   "source": [
    "q1_derivative_works = \"\"\"\n",
    "SELECT (COUNT(DISTINCT ?derivativeWork)AS ?derivativeWorksCount)\n",
    "WHERE {\n",
    "    {\n",
    "      VALUES ?p {wdt:P737 wdt:P144 wdt:P941 wdt:P8371 wdt:P4969} \n",
    "      ?derivativeWork ?p ?work .\n",
    "    }UNION{\n",
    "      ?derivativeWork wdt:P1877 ?creator .\n",
    "    }\n",
    "}\n",
    "\"\"\"\n",
    "derivative_works_df1 = query_wikidata(endpoint, q1_derivative_works, user_agent, True)\n",
    "derivative_works_df1"
   ]
  },
  {
   "cell_type": "markdown",
   "metadata": {},
   "source": [
    "### 1.2 Derivative works with works having an author or creator\n",
    "The only distinction from the previous query is that here it is specified that the \"works\" must have an author or a creator. Note that we are not explicitly referring to a person. In fact authors and creators can be also corporations, groups of people (e.g., bands), etc."
   ]
  },
  {
   "cell_type": "code",
   "execution_count": 4,
   "metadata": {},
   "outputs": [
    {
     "data": {
      "text/html": [
       "<div>\n",
       "<style scoped>\n",
       "    .dataframe tbody tr th:only-of-type {\n",
       "        vertical-align: middle;\n",
       "    }\n",
       "\n",
       "    .dataframe tbody tr th {\n",
       "        vertical-align: top;\n",
       "    }\n",
       "\n",
       "    .dataframe thead th {\n",
       "        text-align: right;\n",
       "    }\n",
       "</style>\n",
       "<table border=\"1\" class=\"dataframe\">\n",
       "  <thead>\n",
       "    <tr style=\"text-align: right;\">\n",
       "      <th></th>\n",
       "      <th>derivativeWorksCount</th>\n",
       "    </tr>\n",
       "  </thead>\n",
       "  <tbody>\n",
       "    <tr>\n",
       "      <th>0</th>\n",
       "      <td>44805</td>\n",
       "    </tr>\n",
       "  </tbody>\n",
       "</table>\n",
       "</div>"
      ],
      "text/plain": [
       "   derivativeWorksCount\n",
       "0                 44805"
      ]
     },
     "execution_count": 4,
     "metadata": {},
     "output_type": "execute_result"
    }
   ],
   "source": [
    "q2_derivative_works = \"\"\"\n",
    "SELECT (COUNT(DISTINCT ?derivativeWork)AS ?derivativeWorksCount)\n",
    "WHERE {\n",
    "    {\n",
    "      ?work wdt:P170 ?creator .\n",
    "     }UNION{\n",
    "      ?work wdt:P50 ?creator .                       \n",
    "     }UNION{\n",
    "      VALUES ?authorOf {wdt:P1455 wdt:P800}      \n",
    "      ?creator ?authorOf ?work .\n",
    "    }\n",
    "    \n",
    "    {\n",
    "      VALUES ?p {wdt:P737 wdt:P144 wdt:P941 wdt:P8371 wdt:P4969} \n",
    "      ?derivativeWork ?p ?work .\n",
    "    }UNION{\n",
    "      ?derivativeWork wdt:P1877 ?creator .\n",
    "    }\n",
    "}\n",
    "\"\"\"\n",
    "derivative_works_df2 = query_wikidata(endpoint, q2_derivative_works, user_agent, True)\n",
    "derivative_works_df2"
   ]
  },
  {
   "cell_type": "markdown",
   "metadata": {},
   "source": [
    "### 1.3 Derivative works with derivative works having an author or creator\n",
    "In this query the only change is that the previous restriction applies to the derivative works, not to the works."
   ]
  },
  {
   "cell_type": "code",
   "execution_count": 5,
   "metadata": {},
   "outputs": [
    {
     "data": {
      "text/html": [
       "<div>\n",
       "<style scoped>\n",
       "    .dataframe tbody tr th:only-of-type {\n",
       "        vertical-align: middle;\n",
       "    }\n",
       "\n",
       "    .dataframe tbody tr th {\n",
       "        vertical-align: top;\n",
       "    }\n",
       "\n",
       "    .dataframe thead th {\n",
       "        text-align: right;\n",
       "    }\n",
       "</style>\n",
       "<table border=\"1\" class=\"dataframe\">\n",
       "  <thead>\n",
       "    <tr style=\"text-align: right;\">\n",
       "      <th></th>\n",
       "      <th>derivativeWorksCount</th>\n",
       "    </tr>\n",
       "  </thead>\n",
       "  <tbody>\n",
       "    <tr>\n",
       "      <th>0</th>\n",
       "      <td>23913</td>\n",
       "    </tr>\n",
       "  </tbody>\n",
       "</table>\n",
       "</div>"
      ],
      "text/plain": [
       "   derivativeWorksCount\n",
       "0                 23913"
      ]
     },
     "execution_count": 5,
     "metadata": {},
     "output_type": "execute_result"
    }
   ],
   "source": [
    "q3_derivative_works = \"\"\"\n",
    "SELECT (COUNT(DISTINCT ?derivativeWork)AS ?derivativeWorksCount)\n",
    "WHERE {\n",
    "    {\n",
    "      ?derivativeWork wdt:P170 ?creator .\n",
    "     }UNION{\n",
    "      ?derivativeWork wdt:P50 ?creator .                       \n",
    "     }UNION{\n",
    "      VALUES ?authorOf {wdt:P1455 wdt:P800}      \n",
    "      ?creator ?authorOf ?derivativeWork .\n",
    "    }\n",
    "    \n",
    "    {\n",
    "      VALUES ?p {wdt:P737 wdt:P144 wdt:P941 wdt:P8371 wdt:P4969} \n",
    "      ?derivativeWork ?p ?work .\n",
    "    }UNION{\n",
    "      ?derivativeWork wdt:P1877 ?creator .\n",
    "    }\n",
    "}\n",
    "\"\"\"\n",
    "derivative_works_df3 = query_wikidata(endpoint, q3_derivative_works, user_agent, True)\n",
    "derivative_works_df3"
   ]
  },
  {
   "cell_type": "markdown",
   "metadata": {},
   "source": [
    "### 1.4 Derivative works with both works and derivative works having an author or a creator\n",
    "In this query, both works and cretive works must have an author or a creator to be included in the results."
   ]
  },
  {
   "cell_type": "code",
   "execution_count": 6,
   "metadata": {},
   "outputs": [
    {
     "data": {
      "text/html": [
       "<div>\n",
       "<style scoped>\n",
       "    .dataframe tbody tr th:only-of-type {\n",
       "        vertical-align: middle;\n",
       "    }\n",
       "\n",
       "    .dataframe tbody tr th {\n",
       "        vertical-align: top;\n",
       "    }\n",
       "\n",
       "    .dataframe thead th {\n",
       "        text-align: right;\n",
       "    }\n",
       "</style>\n",
       "<table border=\"1\" class=\"dataframe\">\n",
       "  <thead>\n",
       "    <tr style=\"text-align: right;\">\n",
       "      <th></th>\n",
       "      <th>derivativeWorksCount</th>\n",
       "    </tr>\n",
       "  </thead>\n",
       "  <tbody>\n",
       "    <tr>\n",
       "      <th>0</th>\n",
       "      <td>18518</td>\n",
       "    </tr>\n",
       "  </tbody>\n",
       "</table>\n",
       "</div>"
      ],
      "text/plain": [
       "   derivativeWorksCount\n",
       "0                 18518"
      ]
     },
     "execution_count": 6,
     "metadata": {},
     "output_type": "execute_result"
    }
   ],
   "source": [
    "q4_derivative_works = \"\"\"\n",
    "SELECT (COUNT(DISTINCT ?derivativeWork)AS ?derivativeWorksCount)\n",
    "WHERE {\n",
    "    {\n",
    "      ?work wdt:P170 ?creator .\n",
    "     }UNION{\n",
    "      ?work wdt:P50 ?creator .                       \n",
    "     }UNION{\n",
    "      VALUES ?authorOf {wdt:P1455 wdt:P800}      \n",
    "      ?creator ?authorOf ?work .\n",
    "    }\n",
    "\n",
    "    {\n",
    "      ?derivativeWork wdt:P170 ?creator2 .\n",
    "     }UNION{\n",
    "      ?derivativeWork wdt:P50 ?creator2 .                       \n",
    "     }UNION{\n",
    "      VALUES ?authorOf {wdt:P1455 wdt:P800}      \n",
    "      ?creator2 ?authorOf ?derivativeWork .\n",
    "    }\n",
    "    \n",
    "    {\n",
    "      VALUES ?p {wdt:P737 wdt:P144 wdt:P941 wdt:P8371 wdt:P4969} \n",
    "      ?derivativeWork ?p ?work .\n",
    "    }UNION{\n",
    "      ?derivativeWork wdt:P1877 ?creator .\n",
    "    }\n",
    "}\n",
    "\"\"\"\n",
    "derivative_works_df4 = query_wikidata(endpoint, q4_derivative_works, user_agent, True)\n",
    "derivative_works_df4"
   ]
  },
  {
   "cell_type": "markdown",
   "metadata": {},
   "source": [
    "## 2) Analyse the use of single properties to connect a product with its derivative work"
   ]
  },
  {
   "cell_type": "markdown",
   "metadata": {},
   "source": [
    "### 2.1 Influenced by (`P737`)"
   ]
  },
  {
   "cell_type": "markdown",
   "metadata": {},
   "source": [
    "#### 2.1.1 Properties based definition of works and derivative works"
   ]
  },
  {
   "cell_type": "code",
   "execution_count": 7,
   "metadata": {},
   "outputs": [
    {
     "data": {
      "text/html": [
       "<div>\n",
       "<style scoped>\n",
       "    .dataframe tbody tr th:only-of-type {\n",
       "        vertical-align: middle;\n",
       "    }\n",
       "\n",
       "    .dataframe tbody tr th {\n",
       "        vertical-align: top;\n",
       "    }\n",
       "\n",
       "    .dataframe thead th {\n",
       "        text-align: right;\n",
       "    }\n",
       "</style>\n",
       "<table border=\"1\" class=\"dataframe\">\n",
       "  <thead>\n",
       "    <tr style=\"text-align: right;\">\n",
       "      <th></th>\n",
       "      <th>work</th>\n",
       "      <th>derivativeWorkInfluencedBy</th>\n",
       "    </tr>\n",
       "  </thead>\n",
       "  <tbody>\n",
       "    <tr>\n",
       "      <th>0</th>\n",
       "      <td>10597</td>\n",
       "      <td>10307</td>\n",
       "    </tr>\n",
       "  </tbody>\n",
       "</table>\n",
       "</div>"
      ],
      "text/plain": [
       "    work  derivativeWorkInfluencedBy\n",
       "0  10597                       10307"
      ]
     },
     "execution_count": 7,
     "metadata": {},
     "output_type": "execute_result"
    }
   ],
   "source": [
    "q1_influenced_by = \"\"\"\n",
    "SELECT (COUNT(DISTINCT ?work) AS ?work) (COUNT(DISTINCT ?derivativeWork) AS ?derivativeWorkInfluencedBy)\n",
    "WHERE {\n",
    "\n",
    "    ?derivativeWork wdt:P737 ?work . \n",
    "                              \n",
    "    SERVICE wikibase:label { bd:serviceParam wikibase:language \"en\". }\n",
    "}\n",
    "\"\"\"\n",
    "influenced_by_df1 = query_wikidata(endpoint, q1_influenced_by, user_agent, True)\n",
    "influenced_by_df1"
   ]
  },
  {
   "cell_type": "markdown",
   "metadata": {},
   "source": [
    "#### 2.1.2 Derivative works with works having an author or creator"
   ]
  },
  {
   "cell_type": "code",
   "execution_count": 8,
   "metadata": {},
   "outputs": [
    {
     "data": {
      "text/html": [
       "<div>\n",
       "<style scoped>\n",
       "    .dataframe tbody tr th:only-of-type {\n",
       "        vertical-align: middle;\n",
       "    }\n",
       "\n",
       "    .dataframe tbody tr th {\n",
       "        vertical-align: top;\n",
       "    }\n",
       "\n",
       "    .dataframe thead th {\n",
       "        text-align: right;\n",
       "    }\n",
       "</style>\n",
       "<table border=\"1\" class=\"dataframe\">\n",
       "  <thead>\n",
       "    <tr style=\"text-align: right;\">\n",
       "      <th></th>\n",
       "      <th>work</th>\n",
       "      <th>derivativeWorkInfluencedBy</th>\n",
       "    </tr>\n",
       "  </thead>\n",
       "  <tbody>\n",
       "    <tr>\n",
       "      <th>0</th>\n",
       "      <td>443</td>\n",
       "      <td>757</td>\n",
       "    </tr>\n",
       "  </tbody>\n",
       "</table>\n",
       "</div>"
      ],
      "text/plain": [
       "   work  derivativeWorkInfluencedBy\n",
       "0   443                         757"
      ]
     },
     "execution_count": 8,
     "metadata": {},
     "output_type": "execute_result"
    }
   ],
   "source": [
    "q2_influenced_by = \"\"\"\n",
    "SELECT (COUNT(DISTINCT ?work) AS ?work) (COUNT(DISTINCT ?derivativeWork) AS ?derivativeWorkInfluencedBy)\n",
    "WHERE {\n",
    "    {\n",
    "      ?work wdt:P170 ?creator .\n",
    "     }UNION{\n",
    "      ?work wdt:P50 ?creator .                           \n",
    "     }UNION{\n",
    "      VALUES ?authorOf {wdt:P1455 wdt:P800}      \n",
    "      ?creator ?authorOf ?work .\n",
    "    }\n",
    "\n",
    "    ?derivativeWork wdt:P737 ?work . \n",
    "                              \n",
    "  SERVICE wikibase:label { bd:serviceParam wikibase:language \"en\". }\n",
    "}\n",
    "\"\"\"\n",
    "influenced_by_df2 = query_wikidata(endpoint, q2_influenced_by, user_agent, True)\n",
    "influenced_by_df2"
   ]
  },
  {
   "cell_type": "markdown",
   "metadata": {},
   "source": [
    "#### 2.1.3 Derivative works with derivative works having an author or creator"
   ]
  },
  {
   "cell_type": "code",
   "execution_count": 9,
   "metadata": {},
   "outputs": [
    {
     "data": {
      "text/html": [
       "<div>\n",
       "<style scoped>\n",
       "    .dataframe tbody tr th:only-of-type {\n",
       "        vertical-align: middle;\n",
       "    }\n",
       "\n",
       "    .dataframe tbody tr th {\n",
       "        vertical-align: top;\n",
       "    }\n",
       "\n",
       "    .dataframe thead th {\n",
       "        text-align: right;\n",
       "    }\n",
       "</style>\n",
       "<table border=\"1\" class=\"dataframe\">\n",
       "  <thead>\n",
       "    <tr style=\"text-align: right;\">\n",
       "      <th></th>\n",
       "      <th>work</th>\n",
       "      <th>derivativeWorkInfluencedBy</th>\n",
       "    </tr>\n",
       "  </thead>\n",
       "  <tbody>\n",
       "    <tr>\n",
       "      <th>0</th>\n",
       "      <td>542</td>\n",
       "      <td>329</td>\n",
       "    </tr>\n",
       "  </tbody>\n",
       "</table>\n",
       "</div>"
      ],
      "text/plain": [
       "   work  derivativeWorkInfluencedBy\n",
       "0   542                         329"
      ]
     },
     "execution_count": 9,
     "metadata": {},
     "output_type": "execute_result"
    }
   ],
   "source": [
    "q3_influenced_by = \"\"\"\n",
    "SELECT (COUNT(DISTINCT ?work) AS ?work) (COUNT(DISTINCT ?derivativeWork) AS ?derivativeWorkInfluencedBy)\n",
    "WHERE {\n",
    "    {\n",
    "      ?derivativeWork wdt:P170 ?creator .\n",
    "     }UNION{\n",
    "      ?derivativeWork wdt:P50 ?creator .                           \n",
    "     }UNION{\n",
    "      VALUES ?authorOf {wdt:P1455 wdt:P800}      \n",
    "      ?creator ?authorOf ?derivativeWork .\n",
    "    }\n",
    "\n",
    "    ?derivativeWork wdt:P737 ?work . \n",
    "                              \n",
    "  SERVICE wikibase:label { bd:serviceParam wikibase:language \"en\". }\n",
    "}\n",
    "\"\"\"\n",
    "influenced_by_df3 = query_wikidata(endpoint, q3_influenced_by, user_agent, True)\n",
    "influenced_by_df3"
   ]
  },
  {
   "cell_type": "markdown",
   "metadata": {},
   "source": [
    "#### 2.1.4 Derivative works with both works and derivative works having an author or a creator"
   ]
  },
  {
   "cell_type": "code",
   "execution_count": 10,
   "metadata": {},
   "outputs": [
    {
     "data": {
      "text/html": [
       "<div>\n",
       "<style scoped>\n",
       "    .dataframe tbody tr th:only-of-type {\n",
       "        vertical-align: middle;\n",
       "    }\n",
       "\n",
       "    .dataframe tbody tr th {\n",
       "        vertical-align: top;\n",
       "    }\n",
       "\n",
       "    .dataframe thead th {\n",
       "        text-align: right;\n",
       "    }\n",
       "</style>\n",
       "<table border=\"1\" class=\"dataframe\">\n",
       "  <thead>\n",
       "    <tr style=\"text-align: right;\">\n",
       "      <th></th>\n",
       "      <th>work</th>\n",
       "      <th>derivativeWorkInfluencedBy</th>\n",
       "    </tr>\n",
       "  </thead>\n",
       "  <tbody>\n",
       "    <tr>\n",
       "      <th>0</th>\n",
       "      <td>186</td>\n",
       "      <td>174</td>\n",
       "    </tr>\n",
       "  </tbody>\n",
       "</table>\n",
       "</div>"
      ],
      "text/plain": [
       "   work  derivativeWorkInfluencedBy\n",
       "0   186                         174"
      ]
     },
     "execution_count": 10,
     "metadata": {},
     "output_type": "execute_result"
    }
   ],
   "source": [
    "q4_influenced_by = \"\"\"\n",
    "SELECT (COUNT(DISTINCT ?work) AS ?work) (COUNT(DISTINCT ?derivativeWork) AS ?derivativeWorkInfluencedBy)\n",
    "WHERE {\n",
    "    {\n",
    "      ?work wdt:P170 ?creator .\n",
    "     }UNION{\n",
    "      ?work wdt:P50 ?creator .                           \n",
    "     }UNION{\n",
    "      VALUES ?authorOf {wdt:P1455 wdt:P800}      \n",
    "      ?creator ?authorOf ?work .\n",
    "    }\n",
    "    \n",
    "    {\n",
    "      ?derivativeWork wdt:P170 ?creator2 .\n",
    "     }UNION{\n",
    "      ?derivativeWork wdt:P50 ?creator2 .                           \n",
    "     }UNION{\n",
    "      VALUES ?authorOf {wdt:P1455 wdt:P800}      \n",
    "      ?creator2 ?authorOf ?derivativeWork .\n",
    "    }\n",
    "\n",
    "    ?derivativeWork wdt:P737 ?work . \n",
    "                              \n",
    "  SERVICE wikibase:label { bd:serviceParam wikibase:language \"en\". }\n",
    "}\n",
    "\"\"\"\n",
    "influenced_by_df4 = query_wikidata(endpoint, q4_influenced_by, user_agent, True)\n",
    "influenced_by_df4"
   ]
  },
  {
   "cell_type": "markdown",
   "metadata": {},
   "source": [
    "### 2.2 Based on (`P144`)"
   ]
  },
  {
   "cell_type": "markdown",
   "metadata": {},
   "source": [
    "#### 2.2.1 Properties based definition of works and derivative works"
   ]
  },
  {
   "cell_type": "code",
   "execution_count": 11,
   "metadata": {},
   "outputs": [
    {
     "data": {
      "text/html": [
       "<div>\n",
       "<style scoped>\n",
       "    .dataframe tbody tr th:only-of-type {\n",
       "        vertical-align: middle;\n",
       "    }\n",
       "\n",
       "    .dataframe tbody tr th {\n",
       "        vertical-align: top;\n",
       "    }\n",
       "\n",
       "    .dataframe thead th {\n",
       "        text-align: right;\n",
       "    }\n",
       "</style>\n",
       "<table border=\"1\" class=\"dataframe\">\n",
       "  <thead>\n",
       "    <tr style=\"text-align: right;\">\n",
       "      <th></th>\n",
       "      <th>work</th>\n",
       "      <th>derivativeWorkBasedOn</th>\n",
       "    </tr>\n",
       "  </thead>\n",
       "  <tbody>\n",
       "    <tr>\n",
       "      <th>0</th>\n",
       "      <td>35093</td>\n",
       "      <td>53158</td>\n",
       "    </tr>\n",
       "  </tbody>\n",
       "</table>\n",
       "</div>"
      ],
      "text/plain": [
       "    work  derivativeWorkBasedOn\n",
       "0  35093                  53158"
      ]
     },
     "execution_count": 11,
     "metadata": {},
     "output_type": "execute_result"
    }
   ],
   "source": [
    "q1_based_on = \"\"\"\n",
    "SELECT  (COUNT(DISTINCT ?work) AS ?work) (COUNT(DISTINCT ?derivativeWork) AS ?derivativeWorkBasedOn)\n",
    "WHERE {\n",
    "\n",
    "    ?derivativeWork wdt:P144 ?work .\n",
    "                              \n",
    "  SERVICE wikibase:label { bd:serviceParam wikibase:language \"en\". }\n",
    "} \"\"\"\n",
    "\n",
    "based_on_df1 = query_wikidata(endpoint, q1_based_on, user_agent, True)\n",
    "based_on_df1"
   ]
  },
  {
   "cell_type": "markdown",
   "metadata": {},
   "source": [
    "#### 2.2.2 Derivative works with works having an author or creator"
   ]
  },
  {
   "cell_type": "code",
   "execution_count": 12,
   "metadata": {},
   "outputs": [
    {
     "data": {
      "text/html": [
       "<div>\n",
       "<style scoped>\n",
       "    .dataframe tbody tr th:only-of-type {\n",
       "        vertical-align: middle;\n",
       "    }\n",
       "\n",
       "    .dataframe tbody tr th {\n",
       "        vertical-align: top;\n",
       "    }\n",
       "\n",
       "    .dataframe thead th {\n",
       "        text-align: right;\n",
       "    }\n",
       "</style>\n",
       "<table border=\"1\" class=\"dataframe\">\n",
       "  <thead>\n",
       "    <tr style=\"text-align: right;\">\n",
       "      <th></th>\n",
       "      <th>work</th>\n",
       "      <th>derivativeWorkBasedOn</th>\n",
       "    </tr>\n",
       "  </thead>\n",
       "  <tbody>\n",
       "    <tr>\n",
       "      <th>0</th>\n",
       "      <td>19003</td>\n",
       "      <td>32456</td>\n",
       "    </tr>\n",
       "  </tbody>\n",
       "</table>\n",
       "</div>"
      ],
      "text/plain": [
       "    work  derivativeWorkBasedOn\n",
       "0  19003                  32456"
      ]
     },
     "execution_count": 12,
     "metadata": {},
     "output_type": "execute_result"
    }
   ],
   "source": [
    "q2_based_on = \"\"\"\n",
    "SELECT  (COUNT(DISTINCT ?work) AS ?work) (COUNT(DISTINCT ?derivativeWork) AS ?derivativeWorkBasedOn)\n",
    "WHERE {\n",
    "    {\n",
    "      ?work wdt:P170 ?creator .\n",
    "     }UNION{\n",
    "      ?work wdt:P50 ?creator .                           \n",
    "     }UNION{\n",
    "      VALUES ?authorOf {wdt:P1455 wdt:P800}      \n",
    "      ?creator ?authorOf ?work .\n",
    "    }\n",
    "\n",
    "    ?derivativeWork wdt:P144 ?work .\n",
    "                              \n",
    "  SERVICE wikibase:label { bd:serviceParam wikibase:language \"en\". }\n",
    "} \"\"\"\n",
    "\n",
    "based_on_df2 = query_wikidata(endpoint, q2_based_on, user_agent, True)\n",
    "based_on_df2"
   ]
  },
  {
   "cell_type": "markdown",
   "metadata": {},
   "source": [
    "#### 2.2.3 Derivative works with derivative works having an author or creator"
   ]
  },
  {
   "cell_type": "code",
   "execution_count": 13,
   "metadata": {},
   "outputs": [
    {
     "data": {
      "text/html": [
       "<div>\n",
       "<style scoped>\n",
       "    .dataframe tbody tr th:only-of-type {\n",
       "        vertical-align: middle;\n",
       "    }\n",
       "\n",
       "    .dataframe tbody tr th {\n",
       "        vertical-align: top;\n",
       "    }\n",
       "\n",
       "    .dataframe thead th {\n",
       "        text-align: right;\n",
       "    }\n",
       "</style>\n",
       "<table border=\"1\" class=\"dataframe\">\n",
       "  <thead>\n",
       "    <tr style=\"text-align: right;\">\n",
       "      <th></th>\n",
       "      <th>work</th>\n",
       "      <th>derivativeWorkBasedOn</th>\n",
       "    </tr>\n",
       "  </thead>\n",
       "  <tbody>\n",
       "    <tr>\n",
       "      <th>0</th>\n",
       "      <td>9562</td>\n",
       "      <td>12816</td>\n",
       "    </tr>\n",
       "  </tbody>\n",
       "</table>\n",
       "</div>"
      ],
      "text/plain": [
       "   work  derivativeWorkBasedOn\n",
       "0  9562                  12816"
      ]
     },
     "execution_count": 13,
     "metadata": {},
     "output_type": "execute_result"
    }
   ],
   "source": [
    "q3_based_on = \"\"\"\n",
    "SELECT  (COUNT(DISTINCT ?work) AS ?work) (COUNT(DISTINCT ?derivativeWork) AS ?derivativeWorkBasedOn)\n",
    "WHERE {\n",
    "    {\n",
    "      ?derivativeWork wdt:P170 ?creator .\n",
    "     }UNION{\n",
    "      ?derivativeWork wdt:P50 ?creator .                           \n",
    "     }UNION{\n",
    "      VALUES ?authorOf {wdt:P1455 wdt:P800}      \n",
    "      ?creator ?authorOf ?derivativeWork .\n",
    "    }\n",
    "\n",
    "    ?derivativeWork wdt:P144 ?work .\n",
    "                              \n",
    "  SERVICE wikibase:label { bd:serviceParam wikibase:language \"en\". }\n",
    "} \"\"\"\n",
    "\n",
    "based_on_df3 = query_wikidata(endpoint, q3_based_on, user_agent, True)\n",
    "based_on_df3"
   ]
  },
  {
   "cell_type": "markdown",
   "metadata": {},
   "source": [
    "#### 2.2.4 Derivative works with both works and derivative works having an author or a creator"
   ]
  },
  {
   "cell_type": "code",
   "execution_count": 14,
   "metadata": {},
   "outputs": [
    {
     "data": {
      "text/html": [
       "<div>\n",
       "<style scoped>\n",
       "    .dataframe tbody tr th:only-of-type {\n",
       "        vertical-align: middle;\n",
       "    }\n",
       "\n",
       "    .dataframe tbody tr th {\n",
       "        vertical-align: top;\n",
       "    }\n",
       "\n",
       "    .dataframe thead th {\n",
       "        text-align: right;\n",
       "    }\n",
       "</style>\n",
       "<table border=\"1\" class=\"dataframe\">\n",
       "  <thead>\n",
       "    <tr style=\"text-align: right;\">\n",
       "      <th></th>\n",
       "      <th>work</th>\n",
       "      <th>derivativeWorkBasedOn</th>\n",
       "    </tr>\n",
       "  </thead>\n",
       "  <tbody>\n",
       "    <tr>\n",
       "      <th>0</th>\n",
       "      <td>7577</td>\n",
       "      <td>10134</td>\n",
       "    </tr>\n",
       "  </tbody>\n",
       "</table>\n",
       "</div>"
      ],
      "text/plain": [
       "   work  derivativeWorkBasedOn\n",
       "0  7577                  10134"
      ]
     },
     "execution_count": 14,
     "metadata": {},
     "output_type": "execute_result"
    }
   ],
   "source": [
    "q4_based_on = \"\"\"\n",
    "SELECT  (COUNT(DISTINCT ?work) AS ?work) (COUNT(DISTINCT ?derivativeWork) AS ?derivativeWorkBasedOn)\n",
    "WHERE {\n",
    "    {\n",
    "      ?work wdt:P170 ?creator .\n",
    "     }UNION{\n",
    "      ?work wdt:P50 ?creator .                           \n",
    "     }UNION{\n",
    "      VALUES ?authorOf {wdt:P1455 wdt:P800}      \n",
    "      ?creator ?authorOf ?work .\n",
    "    }\n",
    "    {\n",
    "      ?derivativeWork wdt:P170 ?creator2 .\n",
    "     }UNION{\n",
    "      ?derivativeWork wdt:P50 ?creator2 .                           \n",
    "     }UNION{\n",
    "      VALUES ?authorOf {wdt:P1455 wdt:P800}      \n",
    "      ?creator2 ?authorOf ?derivativeWork .\n",
    "    }\n",
    "\n",
    "    ?derivativeWork wdt:P144 ?work .\n",
    "                              \n",
    "  SERVICE wikibase:label { bd:serviceParam wikibase:language \"en\". }\n",
    "} \"\"\"\n",
    "\n",
    "based_on_df4 = query_wikidata(endpoint, q4_based_on, user_agent, True)\n",
    "based_on_df4"
   ]
  },
  {
   "cell_type": "markdown",
   "metadata": {},
   "source": [
    "### 2.3 Inspired By (`P941`)"
   ]
  },
  {
   "cell_type": "markdown",
   "metadata": {},
   "source": [
    "#### 2.3.1 Properties based definition of works and derivative works"
   ]
  },
  {
   "cell_type": "code",
   "execution_count": 15,
   "metadata": {},
   "outputs": [
    {
     "data": {
      "text/html": [
       "<div>\n",
       "<style scoped>\n",
       "    .dataframe tbody tr th:only-of-type {\n",
       "        vertical-align: middle;\n",
       "    }\n",
       "\n",
       "    .dataframe tbody tr th {\n",
       "        vertical-align: top;\n",
       "    }\n",
       "\n",
       "    .dataframe thead th {\n",
       "        text-align: right;\n",
       "    }\n",
       "</style>\n",
       "<table border=\"1\" class=\"dataframe\">\n",
       "  <thead>\n",
       "    <tr style=\"text-align: right;\">\n",
       "      <th></th>\n",
       "      <th>work</th>\n",
       "      <th>derivativeWorkInspiredBy</th>\n",
       "    </tr>\n",
       "  </thead>\n",
       "  <tbody>\n",
       "    <tr>\n",
       "      <th>0</th>\n",
       "      <td>5509</td>\n",
       "      <td>5351</td>\n",
       "    </tr>\n",
       "  </tbody>\n",
       "</table>\n",
       "</div>"
      ],
      "text/plain": [
       "   work  derivativeWorkInspiredBy\n",
       "0  5509                      5351"
      ]
     },
     "execution_count": 15,
     "metadata": {},
     "output_type": "execute_result"
    }
   ],
   "source": [
    "q1_inspired_by = \"\"\"\n",
    "SELECT  (COUNT(DISTINCT ?work) AS ?work) (COUNT(DISTINCT ?derivativeWork) AS ?derivativeWorkInspiredBy)\n",
    "WHERE {\n",
    "\n",
    "    ?derivativeWork wdt:P941 ?work .\n",
    "                              \n",
    "  SERVICE wikibase:label { bd:serviceParam wikibase:language \"en\". }\n",
    "} \"\"\"\n",
    "\n",
    "inspired_by_df1 = query_wikidata(endpoint, q1_inspired_by, user_agent, True)\n",
    "inspired_by_df1"
   ]
  },
  {
   "cell_type": "markdown",
   "metadata": {},
   "source": [
    "#### 2.3.2 Derivative works with works having an author or creator"
   ]
  },
  {
   "cell_type": "code",
   "execution_count": 16,
   "metadata": {},
   "outputs": [
    {
     "data": {
      "text/html": [
       "<div>\n",
       "<style scoped>\n",
       "    .dataframe tbody tr th:only-of-type {\n",
       "        vertical-align: middle;\n",
       "    }\n",
       "\n",
       "    .dataframe tbody tr th {\n",
       "        vertical-align: top;\n",
       "    }\n",
       "\n",
       "    .dataframe thead th {\n",
       "        text-align: right;\n",
       "    }\n",
       "</style>\n",
       "<table border=\"1\" class=\"dataframe\">\n",
       "  <thead>\n",
       "    <tr style=\"text-align: right;\">\n",
       "      <th></th>\n",
       "      <th>work</th>\n",
       "      <th>derivativeWorkInspiredBy</th>\n",
       "    </tr>\n",
       "  </thead>\n",
       "  <tbody>\n",
       "    <tr>\n",
       "      <th>0</th>\n",
       "      <td>1611</td>\n",
       "      <td>1777</td>\n",
       "    </tr>\n",
       "  </tbody>\n",
       "</table>\n",
       "</div>"
      ],
      "text/plain": [
       "   work  derivativeWorkInspiredBy\n",
       "0  1611                      1777"
      ]
     },
     "execution_count": 16,
     "metadata": {},
     "output_type": "execute_result"
    }
   ],
   "source": [
    "q2_inspired_by = \"\"\"\n",
    "SELECT  (COUNT(DISTINCT ?work) AS ?work) (COUNT(DISTINCT ?derivativeWork) AS ?derivativeWorkInspiredBy)\n",
    "WHERE {\n",
    "    {\n",
    "      ?work wdt:P170 ?creator .\n",
    "     }UNION{\n",
    "      ?work wdt:P50 ?creator .                           \n",
    "     }UNION{\n",
    "      VALUES ?authorOf {wdt:P1455 wdt:P800}      \n",
    "      ?creator ?authorOf ?work .\n",
    "    }\n",
    "\n",
    "    ?derivativeWork wdt:P941 ?work .\n",
    "                              \n",
    "  SERVICE wikibase:label { bd:serviceParam wikibase:language \"en\". }\n",
    "} \"\"\"\n",
    "\n",
    "inspired_by_df2 = query_wikidata(endpoint, q2_inspired_by, user_agent, True)\n",
    "inspired_by_df2"
   ]
  },
  {
   "cell_type": "markdown",
   "metadata": {},
   "source": [
    "#### 2.3.3 Derivative works with derivative works having an author or creator"
   ]
  },
  {
   "cell_type": "code",
   "execution_count": 17,
   "metadata": {},
   "outputs": [
    {
     "data": {
      "text/html": [
       "<div>\n",
       "<style scoped>\n",
       "    .dataframe tbody tr th:only-of-type {\n",
       "        vertical-align: middle;\n",
       "    }\n",
       "\n",
       "    .dataframe tbody tr th {\n",
       "        vertical-align: top;\n",
       "    }\n",
       "\n",
       "    .dataframe thead th {\n",
       "        text-align: right;\n",
       "    }\n",
       "</style>\n",
       "<table border=\"1\" class=\"dataframe\">\n",
       "  <thead>\n",
       "    <tr style=\"text-align: right;\">\n",
       "      <th></th>\n",
       "      <th>work</th>\n",
       "      <th>derivativeWorkInspiredBy</th>\n",
       "    </tr>\n",
       "  </thead>\n",
       "  <tbody>\n",
       "    <tr>\n",
       "      <th>0</th>\n",
       "      <td>2298</td>\n",
       "      <td>2160</td>\n",
       "    </tr>\n",
       "  </tbody>\n",
       "</table>\n",
       "</div>"
      ],
      "text/plain": [
       "   work  derivativeWorkInspiredBy\n",
       "0  2298                      2160"
      ]
     },
     "execution_count": 17,
     "metadata": {},
     "output_type": "execute_result"
    }
   ],
   "source": [
    "q3_inspired_by = \"\"\"\n",
    "SELECT  (COUNT(DISTINCT ?work) AS ?work) (COUNT(DISTINCT ?derivativeWork) AS ?derivativeWorkInspiredBy)\n",
    "WHERE {\n",
    "    {\n",
    "      ?derivativeWork wdt:P170 ?creator .\n",
    "     }UNION{\n",
    "      ?derivativeWork wdt:P50 ?creator .                           \n",
    "     }UNION{\n",
    "      VALUES ?authorOf {wdt:P1455 wdt:P800}      \n",
    "      ?creator ?authorOf ?derivativeWork .\n",
    "    }\n",
    "\n",
    "    ?derivativeWork wdt:P941 ?work .\n",
    "                              \n",
    "  SERVICE wikibase:label { bd:serviceParam wikibase:language \"en\". }\n",
    "} \"\"\"\n",
    "\n",
    "inspired_by_df3 = query_wikidata(endpoint, q3_inspired_by, user_agent, True)\n",
    "inspired_by_df3"
   ]
  },
  {
   "cell_type": "markdown",
   "metadata": {},
   "source": [
    "#### 2.3.4 Derivative works with both works and derivative works having an author or a creator"
   ]
  },
  {
   "cell_type": "code",
   "execution_count": 18,
   "metadata": {},
   "outputs": [
    {
     "data": {
      "text/html": [
       "<div>\n",
       "<style scoped>\n",
       "    .dataframe tbody tr th:only-of-type {\n",
       "        vertical-align: middle;\n",
       "    }\n",
       "\n",
       "    .dataframe tbody tr th {\n",
       "        vertical-align: top;\n",
       "    }\n",
       "\n",
       "    .dataframe thead th {\n",
       "        text-align: right;\n",
       "    }\n",
       "</style>\n",
       "<table border=\"1\" class=\"dataframe\">\n",
       "  <thead>\n",
       "    <tr style=\"text-align: right;\">\n",
       "      <th></th>\n",
       "      <th>work</th>\n",
       "      <th>derivativeWorkInspiredBy</th>\n",
       "    </tr>\n",
       "  </thead>\n",
       "  <tbody>\n",
       "    <tr>\n",
       "      <th>0</th>\n",
       "      <td>897</td>\n",
       "      <td>961</td>\n",
       "    </tr>\n",
       "  </tbody>\n",
       "</table>\n",
       "</div>"
      ],
      "text/plain": [
       "   work  derivativeWorkInspiredBy\n",
       "0   897                       961"
      ]
     },
     "execution_count": 18,
     "metadata": {},
     "output_type": "execute_result"
    }
   ],
   "source": [
    "q4_inspired_by = \"\"\"\n",
    "SELECT  (COUNT(DISTINCT ?work) AS ?work) (COUNT(DISTINCT ?derivativeWork) AS ?derivativeWorkInspiredBy)\n",
    "WHERE {\n",
    "    {\n",
    "      ?work wdt:P170 ?creator .\n",
    "     }UNION{\n",
    "      ?work wdt:P50 ?creator .                           \n",
    "     }UNION{\n",
    "      VALUES ?authorOf {wdt:P1455 wdt:P800}      \n",
    "      ?creator ?authorOf ?work .\n",
    "    }\n",
    "    {\n",
    "      ?derivativeWork wdt:P170 ?creator2 .\n",
    "     }UNION{\n",
    "      ?derivativeWork wdt:P50 ?creator2 .                           \n",
    "     }UNION{\n",
    "      VALUES ?authorOf {wdt:P1455 wdt:P800}      \n",
    "      ?creator2 ?authorOf ?derivativeWork .\n",
    "    }\n",
    "\n",
    "    ?derivativeWork wdt:P941 ?work .\n",
    "                              \n",
    "  SERVICE wikibase:label { bd:serviceParam wikibase:language \"en\". }\n",
    "} \"\"\"\n",
    "\n",
    "inspired_by_df4 = query_wikidata(endpoint, q4_inspired_by, user_agent, True)\n",
    "inspired_by_df4"
   ]
  },
  {
   "cell_type": "markdown",
   "metadata": {},
   "source": [
    "### 2.4 References Work (`P8371`)"
   ]
  },
  {
   "cell_type": "markdown",
   "metadata": {},
   "source": [
    "#### 2.4.1 Properties based definition of works and derivative works"
   ]
  },
  {
   "cell_type": "code",
   "execution_count": 19,
   "metadata": {},
   "outputs": [
    {
     "data": {
      "text/html": [
       "<div>\n",
       "<style scoped>\n",
       "    .dataframe tbody tr th:only-of-type {\n",
       "        vertical-align: middle;\n",
       "    }\n",
       "\n",
       "    .dataframe tbody tr th {\n",
       "        vertical-align: top;\n",
       "    }\n",
       "\n",
       "    .dataframe thead th {\n",
       "        text-align: right;\n",
       "    }\n",
       "</style>\n",
       "<table border=\"1\" class=\"dataframe\">\n",
       "  <thead>\n",
       "    <tr style=\"text-align: right;\">\n",
       "      <th></th>\n",
       "      <th>work</th>\n",
       "      <th>derivativeWorkReferencesWork</th>\n",
       "    </tr>\n",
       "  </thead>\n",
       "  <tbody>\n",
       "    <tr>\n",
       "      <th>0</th>\n",
       "      <td>1254</td>\n",
       "      <td>597</td>\n",
       "    </tr>\n",
       "  </tbody>\n",
       "</table>\n",
       "</div>"
      ],
      "text/plain": [
       "   work  derivativeWorkReferencesWork\n",
       "0  1254                           597"
      ]
     },
     "execution_count": 19,
     "metadata": {},
     "output_type": "execute_result"
    }
   ],
   "source": [
    "q1_references_work = \"\"\"\n",
    "SELECT (COUNT(DISTINCT ?work) AS ?work) (COUNT(DISTINCT ?derivativeWork) AS ?derivativeWorkReferencesWork)\n",
    "WHERE {\n",
    "\n",
    "    ?derivativeWork wdt:P8371 ?work .\n",
    "                      \n",
    "  SERVICE wikibase:label { bd:serviceParam wikibase:language \"en\". }\n",
    "} \"\"\"\n",
    "\n",
    "references_work_df1 = query_wikidata(endpoint, q1_references_work, user_agent, True)\n",
    "references_work_df1"
   ]
  },
  {
   "cell_type": "markdown",
   "metadata": {},
   "source": [
    "#### 2.4.2 Derivative works with works having an author or creator"
   ]
  },
  {
   "cell_type": "code",
   "execution_count": 20,
   "metadata": {},
   "outputs": [
    {
     "data": {
      "text/html": [
       "<div>\n",
       "<style scoped>\n",
       "    .dataframe tbody tr th:only-of-type {\n",
       "        vertical-align: middle;\n",
       "    }\n",
       "\n",
       "    .dataframe tbody tr th {\n",
       "        vertical-align: top;\n",
       "    }\n",
       "\n",
       "    .dataframe thead th {\n",
       "        text-align: right;\n",
       "    }\n",
       "</style>\n",
       "<table border=\"1\" class=\"dataframe\">\n",
       "  <thead>\n",
       "    <tr style=\"text-align: right;\">\n",
       "      <th></th>\n",
       "      <th>work</th>\n",
       "      <th>derivativeWorkReferencesWork</th>\n",
       "    </tr>\n",
       "  </thead>\n",
       "  <tbody>\n",
       "    <tr>\n",
       "      <th>0</th>\n",
       "      <td>609</td>\n",
       "      <td>368</td>\n",
       "    </tr>\n",
       "  </tbody>\n",
       "</table>\n",
       "</div>"
      ],
      "text/plain": [
       "   work  derivativeWorkReferencesWork\n",
       "0   609                           368"
      ]
     },
     "execution_count": 20,
     "metadata": {},
     "output_type": "execute_result"
    }
   ],
   "source": [
    "q2_references_work = \"\"\"\n",
    "SELECT (COUNT(DISTINCT ?work) AS ?work) (COUNT(DISTINCT ?derivativeWork) AS ?derivativeWorkReferencesWork)\n",
    "WHERE {\n",
    "    {\n",
    "      ?work wdt:P170 ?creator .\n",
    "     }UNION{\n",
    "      ?work wdt:P50 ?creator .                           \n",
    "     }UNION{\n",
    "      VALUES ?authorOf {wdt:P1455 wdt:P800}      \n",
    "      ?creator ?authorOf ?work .\n",
    "    }\n",
    "\n",
    "    ?derivativeWork wdt:P8371 ?work .\n",
    "                      \n",
    "  SERVICE wikibase:label { bd:serviceParam wikibase:language \"en\". }\n",
    "} \"\"\"\n",
    "\n",
    "references_work_df2 = query_wikidata(endpoint, q2_references_work, user_agent, True)\n",
    "references_work_df2"
   ]
  },
  {
   "cell_type": "markdown",
   "metadata": {},
   "source": [
    "#### 2.4.3 Derivative works with derivative works having an author or creator"
   ]
  },
  {
   "cell_type": "code",
   "execution_count": 21,
   "metadata": {},
   "outputs": [
    {
     "data": {
      "text/html": [
       "<div>\n",
       "<style scoped>\n",
       "    .dataframe tbody tr th:only-of-type {\n",
       "        vertical-align: middle;\n",
       "    }\n",
       "\n",
       "    .dataframe tbody tr th {\n",
       "        vertical-align: top;\n",
       "    }\n",
       "\n",
       "    .dataframe thead th {\n",
       "        text-align: right;\n",
       "    }\n",
       "</style>\n",
       "<table border=\"1\" class=\"dataframe\">\n",
       "  <thead>\n",
       "    <tr style=\"text-align: right;\">\n",
       "      <th></th>\n",
       "      <th>work</th>\n",
       "      <th>derivativeWorkReferencesWork</th>\n",
       "    </tr>\n",
       "  </thead>\n",
       "  <tbody>\n",
       "    <tr>\n",
       "      <th>0</th>\n",
       "      <td>905</td>\n",
       "      <td>254</td>\n",
       "    </tr>\n",
       "  </tbody>\n",
       "</table>\n",
       "</div>"
      ],
      "text/plain": [
       "   work  derivativeWorkReferencesWork\n",
       "0   905                           254"
      ]
     },
     "execution_count": 21,
     "metadata": {},
     "output_type": "execute_result"
    }
   ],
   "source": [
    "q3_references_work = \"\"\"\n",
    "SELECT (COUNT(DISTINCT ?work) AS ?work) (COUNT(DISTINCT ?derivativeWork) AS ?derivativeWorkReferencesWork)\n",
    "WHERE {\n",
    "    {\n",
    "      ?derivativeWork wdt:P170 ?creator .\n",
    "     }UNION{\n",
    "      ?derivativeWork wdt:P50 ?creator .                           \n",
    "     }UNION{\n",
    "      VALUES ?authorOf {wdt:P1455 wdt:P800}      \n",
    "      ?creator ?authorOf ?derivativeWork .\n",
    "    }\n",
    "\n",
    "    ?derivativeWork wdt:P8371 ?work .\n",
    "                      \n",
    "  SERVICE wikibase:label { bd:serviceParam wikibase:language \"en\". }\n",
    "} \"\"\"\n",
    "\n",
    "references_work_df3 = query_wikidata(endpoint, q3_references_work, user_agent, True)\n",
    "references_work_df3"
   ]
  },
  {
   "cell_type": "markdown",
   "metadata": {},
   "source": [
    "#### 2.4.4 Derivative works with both works and derivative works having an author or a creator"
   ]
  },
  {
   "cell_type": "code",
   "execution_count": 22,
   "metadata": {},
   "outputs": [
    {
     "data": {
      "text/html": [
       "<div>\n",
       "<style scoped>\n",
       "    .dataframe tbody tr th:only-of-type {\n",
       "        vertical-align: middle;\n",
       "    }\n",
       "\n",
       "    .dataframe tbody tr th {\n",
       "        vertical-align: top;\n",
       "    }\n",
       "\n",
       "    .dataframe thead th {\n",
       "        text-align: right;\n",
       "    }\n",
       "</style>\n",
       "<table border=\"1\" class=\"dataframe\">\n",
       "  <thead>\n",
       "    <tr style=\"text-align: right;\">\n",
       "      <th></th>\n",
       "      <th>work</th>\n",
       "      <th>derivativeWorkReferencesWork</th>\n",
       "    </tr>\n",
       "  </thead>\n",
       "  <tbody>\n",
       "    <tr>\n",
       "      <th>0</th>\n",
       "      <td>498</td>\n",
       "      <td>188</td>\n",
       "    </tr>\n",
       "  </tbody>\n",
       "</table>\n",
       "</div>"
      ],
      "text/plain": [
       "   work  derivativeWorkReferencesWork\n",
       "0   498                           188"
      ]
     },
     "execution_count": 22,
     "metadata": {},
     "output_type": "execute_result"
    }
   ],
   "source": [
    "q4_references_work = \"\"\"\n",
    "SELECT (COUNT(DISTINCT ?work) AS ?work) (COUNT(DISTINCT ?derivativeWork) AS ?derivativeWorkReferencesWork)\n",
    "WHERE {\n",
    "    {\n",
    "      ?work wdt:P170 ?creator .\n",
    "     }UNION{\n",
    "      ?work wdt:P50 ?creator .                           \n",
    "     }UNION{\n",
    "      VALUES ?authorOf {wdt:P1455 wdt:P800}      \n",
    "      ?creator ?authorOf ?work .\n",
    "    }\n",
    "    {\n",
    "      ?derivativeWork wdt:P170 ?creator2 .\n",
    "     }UNION{\n",
    "      ?derivativeWork wdt:P50 ?creator2 .                           \n",
    "     }UNION{\n",
    "      VALUES ?authorOf {wdt:P1455 wdt:P800}      \n",
    "      ?creator2 ?authorOf ?derivativeWork .\n",
    "    }\n",
    "\n",
    "    ?derivativeWork wdt:P8371 ?work .\n",
    "                      \n",
    "  SERVICE wikibase:label { bd:serviceParam wikibase:language \"en\". }\n",
    "} \"\"\"\n",
    "\n",
    "references_work_df4 = query_wikidata(endpoint, q4_references_work, user_agent, True)\n",
    "references_work_df4"
   ]
  },
  {
   "cell_type": "markdown",
   "metadata": {},
   "source": [
    "### 2.5 Derivative Work (`P4969`)"
   ]
  },
  {
   "cell_type": "markdown",
   "metadata": {},
   "source": [
    "#### 2.5.1 Properties based definition of works and derivative works"
   ]
  },
  {
   "cell_type": "code",
   "execution_count": 23,
   "metadata": {},
   "outputs": [
    {
     "data": {
      "text/html": [
       "<div>\n",
       "<style scoped>\n",
       "    .dataframe tbody tr th:only-of-type {\n",
       "        vertical-align: middle;\n",
       "    }\n",
       "\n",
       "    .dataframe tbody tr th {\n",
       "        vertical-align: top;\n",
       "    }\n",
       "\n",
       "    .dataframe thead th {\n",
       "        text-align: right;\n",
       "    }\n",
       "</style>\n",
       "<table border=\"1\" class=\"dataframe\">\n",
       "  <thead>\n",
       "    <tr style=\"text-align: right;\">\n",
       "      <th></th>\n",
       "      <th>work</th>\n",
       "      <th>derivativeWork</th>\n",
       "    </tr>\n",
       "  </thead>\n",
       "  <tbody>\n",
       "    <tr>\n",
       "      <th>0</th>\n",
       "      <td>9378</td>\n",
       "      <td>16142</td>\n",
       "    </tr>\n",
       "  </tbody>\n",
       "</table>\n",
       "</div>"
      ],
      "text/plain": [
       "   work  derivativeWork\n",
       "0  9378           16142"
      ]
     },
     "execution_count": 23,
     "metadata": {},
     "output_type": "execute_result"
    }
   ],
   "source": [
    "q1_derivative_work = \"\"\"\n",
    "SELECT (COUNT(DISTINCT ?work) AS ?work) (COUNT(DISTINCT ?derivativeWork) AS ?derivativeWork)\n",
    "WHERE {\n",
    "    {\n",
    "      ?work wdt:P170 ?creator .\n",
    "     }UNION{\n",
    "      ?work wdt:P50 ?creator .                           \n",
    "     }UNION{\n",
    "      VALUES ?authorOf {wdt:P1455 wdt:P800}      \n",
    "      ?creator ?authorOf ?work .\n",
    "    }\n",
    "\n",
    "    ?work wdt:P4969 ?derivativeWork .\n",
    "\n",
    "  SERVICE wikibase:label { bd:serviceParam wikibase:language \"en\". }\n",
    "} \"\"\"\n",
    "\n",
    "derivative_work_df1 = query_wikidata(endpoint, q1_derivative_work, user_agent, True)\n",
    "derivative_work_df1"
   ]
  },
  {
   "cell_type": "markdown",
   "metadata": {},
   "source": [
    "#### 2.5.2 Derivative works with works having an author or creator"
   ]
  },
  {
   "cell_type": "code",
   "execution_count": 24,
   "metadata": {},
   "outputs": [
    {
     "data": {
      "text/html": [
       "<div>\n",
       "<style scoped>\n",
       "    .dataframe tbody tr th:only-of-type {\n",
       "        vertical-align: middle;\n",
       "    }\n",
       "\n",
       "    .dataframe tbody tr th {\n",
       "        vertical-align: top;\n",
       "    }\n",
       "\n",
       "    .dataframe thead th {\n",
       "        text-align: right;\n",
       "    }\n",
       "</style>\n",
       "<table border=\"1\" class=\"dataframe\">\n",
       "  <thead>\n",
       "    <tr style=\"text-align: right;\">\n",
       "      <th></th>\n",
       "      <th>work</th>\n",
       "      <th>derivativeWork</th>\n",
       "    </tr>\n",
       "  </thead>\n",
       "  <tbody>\n",
       "    <tr>\n",
       "      <th>0</th>\n",
       "      <td>9378</td>\n",
       "      <td>16142</td>\n",
       "    </tr>\n",
       "  </tbody>\n",
       "</table>\n",
       "</div>"
      ],
      "text/plain": [
       "   work  derivativeWork\n",
       "0  9378           16142"
      ]
     },
     "execution_count": 24,
     "metadata": {},
     "output_type": "execute_result"
    }
   ],
   "source": [
    "q2_derivative_work = \"\"\"\n",
    "SELECT (COUNT(DISTINCT ?work) AS ?work) (COUNT(DISTINCT ?derivativeWork) AS ?derivativeWork)\n",
    "WHERE {\n",
    "    {\n",
    "      ?work wdt:P170 ?creator .\n",
    "     }UNION{\n",
    "      ?work wdt:P50 ?creator .                           \n",
    "     }UNION{\n",
    "      VALUES ?authorOf {wdt:P1455 wdt:P800}      \n",
    "      ?creator ?authorOf ?work .\n",
    "    }\n",
    "\n",
    "    ?work wdt:P4969 ?derivativeWork .\n",
    "\n",
    "  SERVICE wikibase:label { bd:serviceParam wikibase:language \"en\". }\n",
    "} \"\"\"\n",
    "\n",
    "derivative_work_df2 = query_wikidata(endpoint, q2_derivative_work, user_agent, True)\n",
    "derivative_work_df2"
   ]
  },
  {
   "cell_type": "markdown",
   "metadata": {},
   "source": [
    "#### 2.5.3 Derivative works with derivative works having an author or creator"
   ]
  },
  {
   "cell_type": "code",
   "execution_count": 25,
   "metadata": {},
   "outputs": [
    {
     "data": {
      "text/html": [
       "<div>\n",
       "<style scoped>\n",
       "    .dataframe tbody tr th:only-of-type {\n",
       "        vertical-align: middle;\n",
       "    }\n",
       "\n",
       "    .dataframe tbody tr th {\n",
       "        vertical-align: top;\n",
       "    }\n",
       "\n",
       "    .dataframe thead th {\n",
       "        text-align: right;\n",
       "    }\n",
       "</style>\n",
       "<table border=\"1\" class=\"dataframe\">\n",
       "  <thead>\n",
       "    <tr style=\"text-align: right;\">\n",
       "      <th></th>\n",
       "      <th>work</th>\n",
       "      <th>derivativeWork</th>\n",
       "    </tr>\n",
       "  </thead>\n",
       "  <tbody>\n",
       "    <tr>\n",
       "      <th>0</th>\n",
       "      <td>3901</td>\n",
       "      <td>5150</td>\n",
       "    </tr>\n",
       "  </tbody>\n",
       "</table>\n",
       "</div>"
      ],
      "text/plain": [
       "   work  derivativeWork\n",
       "0  3901            5150"
      ]
     },
     "execution_count": 25,
     "metadata": {},
     "output_type": "execute_result"
    }
   ],
   "source": [
    "q4_derivative_work = \"\"\"\n",
    "SELECT (COUNT(DISTINCT ?work) AS ?work) (COUNT(DISTINCT ?derivativeWork) AS ?derivativeWork)\n",
    "WHERE {\n",
    "    {\n",
    "      ?work wdt:P170 ?creator .\n",
    "     }UNION{\n",
    "      ?work wdt:P50 ?creator .                           \n",
    "     }UNION{\n",
    "      VALUES ?authorOf {wdt:P1455 wdt:P800}      \n",
    "      ?creator ?authorOf ?work .\n",
    "    }\n",
    "    {\n",
    "      ?derivativeWork wdt:P170 ?creator2 .\n",
    "     }UNION{\n",
    "      ?derivativeWork wdt:P50 ?creator2 .                           \n",
    "     }UNION{\n",
    "      VALUES ?authorOf {wdt:P1455 wdt:P800}      \n",
    "      ?creator2 ?authorOf ?derivativeWork .\n",
    "    }\n",
    "\n",
    "    ?work wdt:P4969 ?derivativeWork .\n",
    "\n",
    "  SERVICE wikibase:label { bd:serviceParam wikibase:language \"en\". }\n",
    "} \"\"\"\n",
    "\n",
    "derivative_work_df4 = query_wikidata(endpoint, q4_derivative_work, user_agent, True)\n",
    "derivative_work_df4"
   ]
  },
  {
   "cell_type": "markdown",
   "metadata": {},
   "source": [
    "#### 2.5.4 Derivative works with both works and derivative works having an author or a creator"
   ]
  },
  {
   "cell_type": "code",
   "execution_count": 26,
   "metadata": {},
   "outputs": [
    {
     "data": {
      "text/html": [
       "<div>\n",
       "<style scoped>\n",
       "    .dataframe tbody tr th:only-of-type {\n",
       "        vertical-align: middle;\n",
       "    }\n",
       "\n",
       "    .dataframe tbody tr th {\n",
       "        vertical-align: top;\n",
       "    }\n",
       "\n",
       "    .dataframe thead th {\n",
       "        text-align: right;\n",
       "    }\n",
       "</style>\n",
       "<table border=\"1\" class=\"dataframe\">\n",
       "  <thead>\n",
       "    <tr style=\"text-align: right;\">\n",
       "      <th></th>\n",
       "      <th>work</th>\n",
       "      <th>derivativeWork</th>\n",
       "    </tr>\n",
       "  </thead>\n",
       "  <tbody>\n",
       "    <tr>\n",
       "      <th>0</th>\n",
       "      <td>4433</td>\n",
       "      <td>5785</td>\n",
       "    </tr>\n",
       "  </tbody>\n",
       "</table>\n",
       "</div>"
      ],
      "text/plain": [
       "   work  derivativeWork\n",
       "0  4433            5785"
      ]
     },
     "execution_count": 26,
     "metadata": {},
     "output_type": "execute_result"
    }
   ],
   "source": [
    "q3_derivative_work = \"\"\"\n",
    "SELECT (COUNT(DISTINCT ?work) AS ?work) (COUNT(DISTINCT ?derivativeWork) AS ?derivativeWork)\n",
    "WHERE {\n",
    "    {\n",
    "      ?derivativeWork wdt:P170 ?creator .\n",
    "     }UNION{\n",
    "      ?derivativeWork wdt:P50 ?creator .                           \n",
    "     }UNION{\n",
    "      VALUES ?authorOf {wdt:P1455 wdt:P800}      \n",
    "      ?creator ?authorOf ?derivativeWork .\n",
    "    }\n",
    "\n",
    "    ?work wdt:P4969 ?derivativeWork .\n",
    "\n",
    "  SERVICE wikibase:label { bd:serviceParam wikibase:language \"en\". }\n",
    "} \"\"\"\n",
    "\n",
    "derivative_work_df3 = query_wikidata(endpoint, q3_derivative_work, user_agent, True)\n",
    "derivative_work_df3"
   ]
  },
  {
   "cell_type": "markdown",
   "metadata": {},
   "source": [
    "### 2.6 After a Work By (`P1877`)"
   ]
  },
  {
   "cell_type": "markdown",
   "metadata": {},
   "source": [
    "#### 2.6.1 Properties based definition of works and derivative works"
   ]
  },
  {
   "cell_type": "code",
   "execution_count": 27,
   "metadata": {},
   "outputs": [
    {
     "data": {
      "text/html": [
       "<div>\n",
       "<style scoped>\n",
       "    .dataframe tbody tr th:only-of-type {\n",
       "        vertical-align: middle;\n",
       "    }\n",
       "\n",
       "    .dataframe tbody tr th {\n",
       "        vertical-align: top;\n",
       "    }\n",
       "\n",
       "    .dataframe thead th {\n",
       "        text-align: right;\n",
       "    }\n",
       "</style>\n",
       "<table border=\"1\" class=\"dataframe\">\n",
       "  <thead>\n",
       "    <tr style=\"text-align: right;\">\n",
       "      <th></th>\n",
       "      <th>creatorCount</th>\n",
       "      <th>derivativeWorkAfterWorkBy</th>\n",
       "    </tr>\n",
       "  </thead>\n",
       "  <tbody>\n",
       "    <tr>\n",
       "      <th>0</th>\n",
       "      <td>4849</td>\n",
       "      <td>12251</td>\n",
       "    </tr>\n",
       "  </tbody>\n",
       "</table>\n",
       "</div>"
      ],
      "text/plain": [
       "   creatorCount  derivativeWorkAfterWorkBy\n",
       "0          4849                      12251"
      ]
     },
     "execution_count": 27,
     "metadata": {},
     "output_type": "execute_result"
    }
   ],
   "source": [
    "q1_after_work_by = \"\"\"\n",
    "SELECT (COUNT(DISTINCT ?creator) AS ?creatorCount) (COUNT(DISTINCT ?derivativeWork) AS ?derivativeWorkAfterWorkBy)\n",
    "WHERE {\n",
    "\n",
    "    ?derivativeWork wdt:P1877 ?creator .\n",
    "      \n",
    "  SERVICE wikibase:label { bd:serviceParam wikibase:language \"en\". }\n",
    "} \"\"\"\n",
    "\n",
    "after_work_by_df1 = query_wikidata(endpoint, q1_after_work_by, user_agent, True)\n",
    "after_work_by_df1"
   ]
  },
  {
   "cell_type": "markdown",
   "metadata": {},
   "source": [
    "#### 2.6.2 Derivative works with works having an author or creator"
   ]
  },
  {
   "cell_type": "code",
   "execution_count": 28,
   "metadata": {},
   "outputs": [
    {
     "data": {
      "text/html": [
       "<div>\n",
       "<style scoped>\n",
       "    .dataframe tbody tr th:only-of-type {\n",
       "        vertical-align: middle;\n",
       "    }\n",
       "\n",
       "    .dataframe tbody tr th {\n",
       "        vertical-align: top;\n",
       "    }\n",
       "\n",
       "    .dataframe thead th {\n",
       "        text-align: right;\n",
       "    }\n",
       "</style>\n",
       "<table border=\"1\" class=\"dataframe\">\n",
       "  <thead>\n",
       "    <tr style=\"text-align: right;\">\n",
       "      <th></th>\n",
       "      <th>creatorCount</th>\n",
       "      <th>derivativeWorkAfterWorkBy</th>\n",
       "    </tr>\n",
       "  </thead>\n",
       "  <tbody>\n",
       "    <tr>\n",
       "      <th>0</th>\n",
       "      <td>3913</td>\n",
       "      <td>10957</td>\n",
       "    </tr>\n",
       "  </tbody>\n",
       "</table>\n",
       "</div>"
      ],
      "text/plain": [
       "   creatorCount  derivativeWorkAfterWorkBy\n",
       "0          3913                      10957"
      ]
     },
     "execution_count": 28,
     "metadata": {},
     "output_type": "execute_result"
    }
   ],
   "source": [
    "q2_after_work_by = \"\"\"\n",
    "SELECT (COUNT(DISTINCT ?creator) AS ?creatorCount) (COUNT(DISTINCT ?derivativeWork) AS ?derivativeWorkAfterWorkBy)\n",
    "WHERE {\n",
    "    {\n",
    "      ?work wdt:P170 ?creator .\n",
    "     }UNION{\n",
    "      ?work wdt:P50 ?creator .                           \n",
    "     }UNION{\n",
    "      VALUES ?authorOf {wdt:P1455 wdt:P800}      \n",
    "      ?creator ?authorOf ?work .\n",
    "    }\n",
    "\n",
    "    ?derivativeWork wdt:P1877 ?creator .\n",
    "      \n",
    "  SERVICE wikibase:label { bd:serviceParam wikibase:language \"en\". }\n",
    "} \"\"\"\n",
    "\n",
    "after_work_by_df2 = query_wikidata(endpoint, q2_after_work_by, user_agent, True)\n",
    "after_work_by_df2"
   ]
  },
  {
   "cell_type": "markdown",
   "metadata": {},
   "source": [
    "#### 2.6.3 Derivative works with derivative works having an author or creator"
   ]
  },
  {
   "cell_type": "code",
   "execution_count": 29,
   "metadata": {},
   "outputs": [
    {
     "data": {
      "text/html": [
       "<div>\n",
       "<style scoped>\n",
       "    .dataframe tbody tr th:only-of-type {\n",
       "        vertical-align: middle;\n",
       "    }\n",
       "\n",
       "    .dataframe tbody tr th {\n",
       "        vertical-align: top;\n",
       "    }\n",
       "\n",
       "    .dataframe thead th {\n",
       "        text-align: right;\n",
       "    }\n",
       "</style>\n",
       "<table border=\"1\" class=\"dataframe\">\n",
       "  <thead>\n",
       "    <tr style=\"text-align: right;\">\n",
       "      <th></th>\n",
       "      <th>creatorCount</th>\n",
       "      <th>derivativeWorkAfterWorkBy</th>\n",
       "    </tr>\n",
       "  </thead>\n",
       "  <tbody>\n",
       "    <tr>\n",
       "      <th>0</th>\n",
       "      <td>1692</td>\n",
       "      <td>5116</td>\n",
       "    </tr>\n",
       "  </tbody>\n",
       "</table>\n",
       "</div>"
      ],
      "text/plain": [
       "   creatorCount  derivativeWorkAfterWorkBy\n",
       "0          1692                       5116"
      ]
     },
     "execution_count": 29,
     "metadata": {},
     "output_type": "execute_result"
    }
   ],
   "source": [
    "q3_after_work_by = \"\"\"\n",
    "SELECT (COUNT(DISTINCT ?creator) AS ?creatorCount) (COUNT(DISTINCT ?derivativeWork) AS ?derivativeWorkAfterWorkBy)\n",
    "WHERE {\n",
    "    {\n",
    "      ?derivativeWork wdt:P170 ?creator2 .\n",
    "     }UNION{\n",
    "      ?derivativeWork wdt:P50 ?creator2 .                           \n",
    "     }UNION{\n",
    "      VALUES ?authorOf {wdt:P1455 wdt:P800}      \n",
    "      ?creator2 ?authorOf ?derivativeWork .\n",
    "    }\n",
    "\n",
    "    ?derivativeWork wdt:P1877 ?creator .\n",
    "      \n",
    "  SERVICE wikibase:label { bd:serviceParam wikibase:language \"en\". }\n",
    "} \"\"\"\n",
    "\n",
    "after_work_by_df3 = query_wikidata(endpoint, q3_after_work_by, user_agent, True)\n",
    "after_work_by_df3"
   ]
  },
  {
   "cell_type": "markdown",
   "metadata": {},
   "source": [
    "#### 2.6.4 Derivative works with both works and derivative works having an author or a creator"
   ]
  },
  {
   "cell_type": "code",
   "execution_count": 30,
   "metadata": {},
   "outputs": [
    {
     "data": {
      "text/html": [
       "<div>\n",
       "<style scoped>\n",
       "    .dataframe tbody tr th:only-of-type {\n",
       "        vertical-align: middle;\n",
       "    }\n",
       "\n",
       "    .dataframe tbody tr th {\n",
       "        vertical-align: top;\n",
       "    }\n",
       "\n",
       "    .dataframe thead th {\n",
       "        text-align: right;\n",
       "    }\n",
       "</style>\n",
       "<table border=\"1\" class=\"dataframe\">\n",
       "  <thead>\n",
       "    <tr style=\"text-align: right;\">\n",
       "      <th></th>\n",
       "      <th>creatorCount</th>\n",
       "      <th>derivativeWorkAfterWorkBy</th>\n",
       "    </tr>\n",
       "  </thead>\n",
       "  <tbody>\n",
       "    <tr>\n",
       "      <th>0</th>\n",
       "      <td>1409</td>\n",
       "      <td>4545</td>\n",
       "    </tr>\n",
       "  </tbody>\n",
       "</table>\n",
       "</div>"
      ],
      "text/plain": [
       "   creatorCount  derivativeWorkAfterWorkBy\n",
       "0          1409                       4545"
      ]
     },
     "execution_count": 30,
     "metadata": {},
     "output_type": "execute_result"
    }
   ],
   "source": [
    "q4_after_work_by = \"\"\"\n",
    "SELECT (COUNT(DISTINCT ?creator) AS ?creatorCount) (COUNT(DISTINCT ?derivativeWork) AS ?derivativeWorkAfterWorkBy)\n",
    "WHERE {\n",
    "    {\n",
    "      ?work wdt:P170 ?creator .\n",
    "     }UNION{\n",
    "      ?work wdt:P50 ?creator .                           \n",
    "     }UNION{\n",
    "      VALUES ?authorOf {wdt:P1455 wdt:P800}      \n",
    "      ?creator ?authorOf ?work .\n",
    "    }\n",
    "    {\n",
    "      ?derivativeWork wdt:P170 ?creator2 .\n",
    "     }UNION{\n",
    "      ?derivativeWork wdt:P50 ?creator2 .                           \n",
    "     }UNION{\n",
    "      VALUES ?authorOf {wdt:P1455 wdt:P800}      \n",
    "      ?creator2 ?authorOf ?derivativeWork .\n",
    "    }\n",
    "\n",
    "    ?derivativeWork wdt:P1877 ?creator .\n",
    "      \n",
    "  SERVICE wikibase:label { bd:serviceParam wikibase:language \"en\". }\n",
    "} \"\"\"\n",
    "\n",
    "after_work_by_df4 = query_wikidata(endpoint, q4_after_work_by, user_agent, True)\n",
    "after_work_by_df4"
   ]
  }
 ],
 "metadata": {
  "kernelspec": {
   "display_name": "Python 3.10.0 64-bit",
   "language": "python",
   "name": "python3"
  },
  "language_info": {
   "codemirror_mode": {
    "name": "ipython",
    "version": 3
   },
   "file_extension": ".py",
   "mimetype": "text/x-python",
   "name": "python",
   "nbconvert_exporter": "python",
   "pygments_lexer": "ipython3",
   "version": "3.10.0"
  },
  "orig_nbformat": 4,
  "vscode": {
   "interpreter": {
    "hash": "aee8b7b246df8f9039afb4144a1f6fd8d2ca17a180786b69acc140d282b71a49"
   }
  }
 },
 "nbformat": 4,
 "nbformat_minor": 2
}
