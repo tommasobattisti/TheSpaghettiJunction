{
 "cells": [
  {
   "cell_type": "markdown",
   "metadata": {},
   "source": [
    "# General queries: no context-based restrictions"
   ]
  },
  {
   "cell_type": "code",
   "execution_count": 2,
   "metadata": {},
   "outputs": [],
   "source": [
    "from pandas import *\n",
    "from queryWikidata import query_wikidata"
   ]
  },
  {
   "cell_type": "code",
   "execution_count": 3,
   "metadata": {},
   "outputs": [],
   "source": [
    "endpoint = \"https://query.wikidata.org/sparql\"\n",
    "user_agent = \"Mozilla/5.0 (Macintosh; Intel Mac OS X 10.15; rv:105.0) Gecko/20100101 Firefox/105.0\""
   ]
  },
  {
   "cell_type": "markdown",
   "metadata": {},
   "source": [
    "## 1. Count all the derivative works present on Wikidata\n",
    "\n",
    "To do that, we rely on the following properties:\n",
    "- P737 influenced by\n",
    "- P144 based on\n",
    "- P941 inspired by\n",
    "- P8371 references work\n",
    "- P4969 derivative work\n",
    "- P58 screenwriter\n",
    "- P1877 after a work by\n",
    "- P674 characters\n",
    "- P170 creator\n",
    "- P50 author\n",
    "\n"
   ]
  },
  {
   "cell_type": "code",
   "execution_count": 8,
   "metadata": {},
   "outputs": [
    {
     "data": {
      "text/html": [
       "<div>\n",
       "<style scoped>\n",
       "    .dataframe tbody tr th:only-of-type {\n",
       "        vertical-align: middle;\n",
       "    }\n",
       "\n",
       "    .dataframe tbody tr th {\n",
       "        vertical-align: top;\n",
       "    }\n",
       "\n",
       "    .dataframe thead th {\n",
       "        text-align: right;\n",
       "    }\n",
       "</style>\n",
       "<table border=\"1\" class=\"dataframe\">\n",
       "  <thead>\n",
       "    <tr style=\"text-align: right;\">\n",
       "      <th></th>\n",
       "      <th>worksCount</th>\n",
       "      <th>derivativeWorksCount</th>\n",
       "    </tr>\n",
       "  </thead>\n",
       "  <tbody>\n",
       "    <tr>\n",
       "      <th>0</th>\n",
       "      <td>176364</td>\n",
       "      <td>44378</td>\n",
       "    </tr>\n",
       "  </tbody>\n",
       "</table>\n",
       "</div>"
      ],
      "text/plain": [
       "   worksCount  derivativeWorksCount\n",
       "0      176364                 44378"
      ]
     },
     "execution_count": 8,
     "metadata": {},
     "output_type": "execute_result"
    }
   ],
   "source": [
    "q_derivative_works = \"\"\"\n",
    "SELECT (COUNT(DISTINCT ?work)AS ?worksCount) (COUNT(DISTINCT ?derivativeWork)AS ?derivativeWorksCount)\n",
    "\n",
    "WHERE {\n",
    "    {\n",
    "      ?work wdt:P170 ?person .\n",
    "     }UNION{\n",
    "      ?work wdt:P50 ?person .                       \n",
    "     }UNION{\n",
    "      VALUES ?authorOf {wdt:P1455 wdt:P800}      \n",
    "      ?person ?authorOf ?work .\n",
    "    }\n",
    "    \n",
    "    {\n",
    "      VALUES ?p {wdt:P737 wdt:P144 wdt:P941 wdt:P8371 wdt:P4969} \n",
    "      ?derivativeWork ?p ?work .\n",
    "    }UNION{\n",
    "      ?derivativeWork wdt:P1877 ?person .\n",
    "    }\n",
    "}\n",
    "\"\"\"\n",
    "derivative_works_df = query_wikidata(endpoint, q_derivative_works, user_agent, True)\n",
    "derivative_works_df"
   ]
  },
  {
   "cell_type": "markdown",
   "metadata": {},
   "source": [
    "## 2. Analyse the use of single properties to connect a product with its derivative work"
   ]
  },
  {
   "cell_type": "markdown",
   "metadata": {},
   "source": [
    "### 2.1 Influenced by (`P737`)"
   ]
  },
  {
   "cell_type": "code",
   "execution_count": 15,
   "metadata": {},
   "outputs": [
    {
     "data": {
      "text/html": [
       "<div>\n",
       "<style scoped>\n",
       "    .dataframe tbody tr th:only-of-type {\n",
       "        vertical-align: middle;\n",
       "    }\n",
       "\n",
       "    .dataframe tbody tr th {\n",
       "        vertical-align: top;\n",
       "    }\n",
       "\n",
       "    .dataframe thead th {\n",
       "        text-align: right;\n",
       "    }\n",
       "</style>\n",
       "<table border=\"1\" class=\"dataframe\">\n",
       "  <thead>\n",
       "    <tr style=\"text-align: right;\">\n",
       "      <th></th>\n",
       "      <th>work</th>\n",
       "      <th>derivativeWorkInfluencedBy</th>\n",
       "    </tr>\n",
       "  </thead>\n",
       "  <tbody>\n",
       "    <tr>\n",
       "      <th>0</th>\n",
       "      <td>403</td>\n",
       "      <td>674</td>\n",
       "    </tr>\n",
       "  </tbody>\n",
       "</table>\n",
       "</div>"
      ],
      "text/plain": [
       "   work  derivativeWorkInfluencedBy\n",
       "0   403                         674"
      ]
     },
     "execution_count": 15,
     "metadata": {},
     "output_type": "execute_result"
    }
   ],
   "source": [
    "q_influenced_by = \"\"\"\n",
    "SELECT DISTINCT\n",
    "(COUNT(DISTINCT ?work) AS ?work) (COUNT(DISTINCT ?derivativeWork) AS ?derivativeWorkInfluencedBy)\n",
    "\n",
    "WHERE {\n",
    "    ?person wdt:P31 wd:Q5 .\n",
    "    {\n",
    "      ?work wdt:P170 ?person .\n",
    "     }UNION{\n",
    "      ?work wdt:P50 ?person .                           \n",
    "     }UNION{\n",
    "      VALUES ?authorOf {wdt:P1455 wdt:P800}      \n",
    "      ?person ?authorOf ?work .\n",
    "    }\n",
    "\n",
    "    ?derivativeWork wdt:P737 ?work . \n",
    "                              \n",
    "  SERVICE wikibase:label { bd:serviceParam wikibase:language \"en\". }\n",
    "}\n",
    "\"\"\"\n",
    "influenced_by_df = query_wikidata(endpoint, q_influenced_by, user_agent, True)\n",
    "influenced_by_df"
   ]
  },
  {
   "cell_type": "code",
   "execution_count": null,
   "metadata": {},
   "outputs": [],
   "source": [
    "\"\"\" SELECT DISTINCT\n",
    "(COUNT(DISTINCT ?work) AS ?work) (COUNT(DISTINCT ?derivativeWork) AS ?derivativeWork)\n",
    "(COUNT(DISTINCT ?influencedWork) AS ?influencedByP) (COUNT(DISTINCT ?workBasedOn) AS ?basedOnP) (COUNT(DISTINCT ?referencedWork) AS ?referencesWorkP) (COUNT(DISTINCT ?derivedWork) AS ?derivedWorkP) (COUNT(DISTINCT ?inspiredWork) AS ?inspiredByP)  (COUNT(DISTINCT ?workAfter) AS ?afterWorkByP)\n",
    "\n",
    "WHERE {\n",
    "    ?person wdt:P31 wd:Q5 .\n",
    "    {\n",
    "      ?work wdt:P170 ?person .\n",
    "     }UNION{\n",
    "      ?work wdt:P50 ?person .                           \n",
    "     }UNION{\n",
    "      VALUES ?authorOf {wdt:P1455 wdt:P800}      \n",
    "      ?person ?authorOf ?work .\n",
    "    }\n",
    "\n",
    "    {\n",
    "      ?derivativeWork wdt:P737 ?work . \n",
    "      BIND(?derivativeWork AS ?influencedWork)\n",
    "    }UNION{\n",
    "      ?derivativeWork wdt:P144 ?work .\n",
    "      BIND(?derivativeWork AS ?workBasedOn)\n",
    "    }UNION{\n",
    "      ?derivativeWork wdt:P941 ?work .\n",
    "      BIND(?derivativeWork AS ?inspiredWork)\n",
    "    }UNION{  \n",
    "      ?derivativeWork wdt:P8371 ?work .\n",
    "      BIND(?derivativeWork AS ?referencedWork)\n",
    "    }UNION{\n",
    "      ?work wdt:P4969 ?derivativeWork .\n",
    "      BIND(?derivativeWork AS ?derivedWork)\n",
    "    }UNION{\n",
    "      ?derivativeWork wdt:P1877 ?person .\n",
    "      BIND(?derivativeWork AS ?workAfter)\n",
    "    }\n",
    "                              \n",
    "  SERVICE wikibase:label { bd:serviceParam wikibase:language \"en\". }\n",
    "} \"\"\""
   ]
  }
 ],
 "metadata": {
  "kernelspec": {
   "display_name": "Python 3.10.0 64-bit",
   "language": "python",
   "name": "python3"
  },
  "language_info": {
   "codemirror_mode": {
    "name": "ipython",
    "version": 3
   },
   "file_extension": ".py",
   "mimetype": "text/x-python",
   "name": "python",
   "nbconvert_exporter": "python",
   "pygments_lexer": "ipython3",
   "version": "3.10.0"
  },
  "orig_nbformat": 4,
  "vscode": {
   "interpreter": {
    "hash": "aee8b7b246df8f9039afb4144a1f6fd8d2ca17a180786b69acc140d282b71a49"
   }
  }
 },
 "nbformat": 4,
 "nbformat_minor": 2
}
