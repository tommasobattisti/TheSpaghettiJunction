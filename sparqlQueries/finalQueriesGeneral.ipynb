{
 "cells": [
  {
   "cell_type": "markdown",
   "metadata": {},
   "source": [
    "# General queries: no context-based restrictions\n",
    "This implies that among \"works\" are also included entities such as charcaters, song contests, objects, web platforms etc.\n",
    "\n",
    "Moreover, to include more works in general, the variable \"creator\" do not include only humans. "
   ]
  },
  {
   "cell_type": "code",
   "execution_count": 2,
   "metadata": {},
   "outputs": [],
   "source": [
    "from pandas import *\n",
    "from queryWikidata import query_wikidata"
   ]
  },
  {
   "cell_type": "code",
   "execution_count": 3,
   "metadata": {},
   "outputs": [],
   "source": [
    "endpoint = \"https://query.wikidata.org/sparql\"\n",
    "user_agent = \"Mozilla/5.0 (Macintosh; Intel Mac OS X 10.15; rv:105.0) Gecko/20100101 Firefox/105.0\""
   ]
  },
  {
   "cell_type": "markdown",
   "metadata": {},
   "source": [
    "## 1. Count all the derivative works present on Wikidata\n",
    "\n",
    "To do that, we rely on the following properties:\n",
    "- P737 influenced by\n",
    "- P144 based on\n",
    "- P941 inspired by\n",
    "- P8371 references work\n",
    "- P4969 derivative work\n",
    "- P58 screenwriter\n",
    "- P1877 after a work by\n",
    "- P674 characters\n",
    "- P170 creator\n",
    "- P50 author\n",
    "\n"
   ]
  },
  {
   "cell_type": "markdown",
   "metadata": {},
   "source": [
    "### 1.1 Derivative works without definition of work and derivative work "
   ]
  },
  {
   "cell_type": "code",
   "execution_count": 87,
   "metadata": {},
   "outputs": [
    {
     "data": {
      "text/html": [
       "<div>\n",
       "<style scoped>\n",
       "    .dataframe tbody tr th:only-of-type {\n",
       "        vertical-align: middle;\n",
       "    }\n",
       "\n",
       "    .dataframe tbody tr th {\n",
       "        vertical-align: top;\n",
       "    }\n",
       "\n",
       "    .dataframe thead th {\n",
       "        text-align: right;\n",
       "    }\n",
       "</style>\n",
       "<table border=\"1\" class=\"dataframe\">\n",
       "  <thead>\n",
       "    <tr style=\"text-align: right;\">\n",
       "      <th></th>\n",
       "      <th>derivativeWorksCount</th>\n",
       "    </tr>\n",
       "  </thead>\n",
       "  <tbody>\n",
       "    <tr>\n",
       "      <th>0</th>\n",
       "      <td>86683</td>\n",
       "    </tr>\n",
       "  </tbody>\n",
       "</table>\n",
       "</div>"
      ],
      "text/plain": [
       "   derivativeWorksCount\n",
       "0                 86683"
      ]
     },
     "execution_count": 87,
     "metadata": {},
     "output_type": "execute_result"
    }
   ],
   "source": [
    "q1_derivative_works = \"\"\"\n",
    "SELECT (COUNT(DISTINCT ?derivativeWork)AS ?derivativeWorksCount)\n",
    "WHERE {\n",
    "    {\n",
    "      VALUES ?p {wdt:P737 wdt:P144 wdt:P941 wdt:P8371 wdt:P4969} \n",
    "      ?derivativeWork ?p ?work .\n",
    "    }UNION{\n",
    "      ?derivativeWork wdt:P1877 ?creator .\n",
    "    }\n",
    "}\n",
    "\"\"\"\n",
    "derivative_works_df1 = query_wikidata(endpoint, q1_derivative_works, user_agent, True)\n",
    "derivative_works_df1"
   ]
  },
  {
   "cell_type": "markdown",
   "metadata": {},
   "source": [
    "### 1.2 Derivative works with work's definition only"
   ]
  },
  {
   "cell_type": "code",
   "execution_count": 88,
   "metadata": {},
   "outputs": [
    {
     "data": {
      "text/html": [
       "<div>\n",
       "<style scoped>\n",
       "    .dataframe tbody tr th:only-of-type {\n",
       "        vertical-align: middle;\n",
       "    }\n",
       "\n",
       "    .dataframe tbody tr th {\n",
       "        vertical-align: top;\n",
       "    }\n",
       "\n",
       "    .dataframe thead th {\n",
       "        text-align: right;\n",
       "    }\n",
       "</style>\n",
       "<table border=\"1\" class=\"dataframe\">\n",
       "  <thead>\n",
       "    <tr style=\"text-align: right;\">\n",
       "      <th></th>\n",
       "      <th>derivativeWorksCount</th>\n",
       "    </tr>\n",
       "  </thead>\n",
       "  <tbody>\n",
       "    <tr>\n",
       "      <th>0</th>\n",
       "      <td>44386</td>\n",
       "    </tr>\n",
       "  </tbody>\n",
       "</table>\n",
       "</div>"
      ],
      "text/plain": [
       "   derivativeWorksCount\n",
       "0                 44386"
      ]
     },
     "execution_count": 88,
     "metadata": {},
     "output_type": "execute_result"
    }
   ],
   "source": [
    "q2_derivative_works = \"\"\"\n",
    "SELECT (COUNT(DISTINCT ?derivativeWork)AS ?derivativeWorksCount)\n",
    "WHERE {\n",
    "    {\n",
    "      ?work wdt:P170 ?creator .\n",
    "     }UNION{\n",
    "      ?work wdt:P50 ?creator .                       \n",
    "     }UNION{\n",
    "      VALUES ?authorOf {wdt:P1455 wdt:P800}      \n",
    "      ?creator ?authorOf ?work .\n",
    "    }\n",
    "    \n",
    "    {\n",
    "      VALUES ?p {wdt:P737 wdt:P144 wdt:P941 wdt:P8371 wdt:P4969} \n",
    "      ?derivativeWork ?p ?work .\n",
    "    }UNION{\n",
    "      ?derivativeWork wdt:P1877 ?creator .\n",
    "    }\n",
    "}\n",
    "\"\"\"\n",
    "derivative_works_df2 = query_wikidata(endpoint, q2_derivative_works, user_agent, True)\n",
    "derivative_works_df2"
   ]
  },
  {
   "cell_type": "markdown",
   "metadata": {},
   "source": [
    "### 1.3 Derivative works with derivative work's definition only"
   ]
  },
  {
   "cell_type": "code",
   "execution_count": 89,
   "metadata": {},
   "outputs": [
    {
     "data": {
      "text/html": [
       "<div>\n",
       "<style scoped>\n",
       "    .dataframe tbody tr th:only-of-type {\n",
       "        vertical-align: middle;\n",
       "    }\n",
       "\n",
       "    .dataframe tbody tr th {\n",
       "        vertical-align: top;\n",
       "    }\n",
       "\n",
       "    .dataframe thead th {\n",
       "        text-align: right;\n",
       "    }\n",
       "</style>\n",
       "<table border=\"1\" class=\"dataframe\">\n",
       "  <thead>\n",
       "    <tr style=\"text-align: right;\">\n",
       "      <th></th>\n",
       "      <th>derivativeWorksCount</th>\n",
       "    </tr>\n",
       "  </thead>\n",
       "  <tbody>\n",
       "    <tr>\n",
       "      <th>0</th>\n",
       "      <td>23660</td>\n",
       "    </tr>\n",
       "  </tbody>\n",
       "</table>\n",
       "</div>"
      ],
      "text/plain": [
       "   derivativeWorksCount\n",
       "0                 23660"
      ]
     },
     "execution_count": 89,
     "metadata": {},
     "output_type": "execute_result"
    }
   ],
   "source": [
    "q3_derivative_works = \"\"\"\n",
    "SELECT (COUNT(DISTINCT ?derivativeWork)AS ?derivativeWorksCount)\n",
    "WHERE {\n",
    "    {\n",
    "      ?derivativeWork wdt:P170 ?creator .\n",
    "     }UNION{\n",
    "      ?derivativeWork wdt:P50 ?creator .                       \n",
    "     }UNION{\n",
    "      VALUES ?authorOf {wdt:P1455 wdt:P800}      \n",
    "      ?creator ?authorOf ?derivativeWork .\n",
    "    }\n",
    "    \n",
    "    {\n",
    "      VALUES ?p {wdt:P737 wdt:P144 wdt:P941 wdt:P8371 wdt:P4969} \n",
    "      ?derivativeWork ?p ?work .\n",
    "    }UNION{\n",
    "      ?derivativeWork wdt:P1877 ?creator .\n",
    "    }\n",
    "}\n",
    "\"\"\"\n",
    "derivative_works_df3 = query_wikidata(endpoint, q3_derivative_works, user_agent, True)\n",
    "derivative_works_df3"
   ]
  },
  {
   "cell_type": "markdown",
   "metadata": {},
   "source": [
    "### 1.4 Derivative works with definition of both work and derivative work"
   ]
  },
  {
   "cell_type": "code",
   "execution_count": 90,
   "metadata": {},
   "outputs": [
    {
     "data": {
      "text/html": [
       "<div>\n",
       "<style scoped>\n",
       "    .dataframe tbody tr th:only-of-type {\n",
       "        vertical-align: middle;\n",
       "    }\n",
       "\n",
       "    .dataframe tbody tr th {\n",
       "        vertical-align: top;\n",
       "    }\n",
       "\n",
       "    .dataframe thead th {\n",
       "        text-align: right;\n",
       "    }\n",
       "</style>\n",
       "<table border=\"1\" class=\"dataframe\">\n",
       "  <thead>\n",
       "    <tr style=\"text-align: right;\">\n",
       "      <th></th>\n",
       "      <th>derivativeWorksCount</th>\n",
       "    </tr>\n",
       "  </thead>\n",
       "  <tbody>\n",
       "    <tr>\n",
       "      <th>0</th>\n",
       "      <td>18347</td>\n",
       "    </tr>\n",
       "  </tbody>\n",
       "</table>\n",
       "</div>"
      ],
      "text/plain": [
       "   derivativeWorksCount\n",
       "0                 18347"
      ]
     },
     "execution_count": 90,
     "metadata": {},
     "output_type": "execute_result"
    }
   ],
   "source": [
    "q4_derivative_works = \"\"\"\n",
    "SELECT (COUNT(DISTINCT ?derivativeWork)AS ?derivativeWorksCount)\n",
    "WHERE {\n",
    "    {\n",
    "      ?work wdt:P170 ?creator .\n",
    "     }UNION{\n",
    "      ?work wdt:P50 ?creator .                       \n",
    "     }UNION{\n",
    "      VALUES ?authorOf {wdt:P1455 wdt:P800}      \n",
    "      ?creator ?authorOf ?work .\n",
    "    }\n",
    "\n",
    "    {\n",
    "      ?derivativeWork wdt:P170 ?creator2 .  #I set creator with another variable since I don't want to include only people as defined by the previous union block\n",
    "     }UNION{\n",
    "      ?derivativeWork wdt:P50 ?creator2 .                       \n",
    "     }UNION{\n",
    "      VALUES ?authorOf {wdt:P1455 wdt:P800}      \n",
    "      ?creator2 ?authorOf ?derivativeWork .\n",
    "    }\n",
    "    \n",
    "    {\n",
    "      VALUES ?p {wdt:P737 wdt:P144 wdt:P941 wdt:P8371 wdt:P4969} \n",
    "      ?derivativeWork ?p ?work .\n",
    "    }UNION{\n",
    "      ?derivativeWork wdt:P1877 ?creator .\n",
    "    }\n",
    "}\n",
    "\"\"\"\n",
    "derivative_works_df4 = query_wikidata(endpoint, q4_derivative_works, user_agent, True)\n",
    "derivative_works_df4"
   ]
  },
  {
   "cell_type": "markdown",
   "metadata": {},
   "source": [
    "## 2. Analyse the use of single properties to connect a product with its derivative work"
   ]
  },
  {
   "cell_type": "markdown",
   "metadata": {},
   "source": [
    "### 2.1 Influenced by (`P737`)"
   ]
  },
  {
   "cell_type": "markdown",
   "metadata": {},
   "source": [
    "#### 2.1.1 No definition of work and derivative work"
   ]
  },
  {
   "cell_type": "code",
   "execution_count": 91,
   "metadata": {},
   "outputs": [
    {
     "data": {
      "text/html": [
       "<div>\n",
       "<style scoped>\n",
       "    .dataframe tbody tr th:only-of-type {\n",
       "        vertical-align: middle;\n",
       "    }\n",
       "\n",
       "    .dataframe tbody tr th {\n",
       "        vertical-align: top;\n",
       "    }\n",
       "\n",
       "    .dataframe thead th {\n",
       "        text-align: right;\n",
       "    }\n",
       "</style>\n",
       "<table border=\"1\" class=\"dataframe\">\n",
       "  <thead>\n",
       "    <tr style=\"text-align: right;\">\n",
       "      <th></th>\n",
       "      <th>work</th>\n",
       "      <th>derivativeWorkInfluencedBy</th>\n",
       "    </tr>\n",
       "  </thead>\n",
       "  <tbody>\n",
       "    <tr>\n",
       "      <th>0</th>\n",
       "      <td>10523</td>\n",
       "      <td>10249</td>\n",
       "    </tr>\n",
       "  </tbody>\n",
       "</table>\n",
       "</div>"
      ],
      "text/plain": [
       "    work  derivativeWorkInfluencedBy\n",
       "0  10523                       10249"
      ]
     },
     "execution_count": 91,
     "metadata": {},
     "output_type": "execute_result"
    }
   ],
   "source": [
    "q1_influenced_by = \"\"\"\n",
    "SELECT (COUNT(DISTINCT ?work) AS ?work) (COUNT(DISTINCT ?derivativeWork) AS ?derivativeWorkInfluencedBy)\n",
    "WHERE {\n",
    "\n",
    "    ?derivativeWork wdt:P737 ?work . \n",
    "                              \n",
    "    SERVICE wikibase:label { bd:serviceParam wikibase:language \"en\". }\n",
    "}\n",
    "\"\"\"\n",
    "influenced_by_df1 = query_wikidata(endpoint, q1_influenced_by, user_agent, True)\n",
    "influenced_by_df1"
   ]
  },
  {
   "cell_type": "markdown",
   "metadata": {},
   "source": [
    "#### 2.1.2 Only definition of work"
   ]
  },
  {
   "cell_type": "code",
   "execution_count": 93,
   "metadata": {},
   "outputs": [
    {
     "data": {
      "text/html": [
       "<div>\n",
       "<style scoped>\n",
       "    .dataframe tbody tr th:only-of-type {\n",
       "        vertical-align: middle;\n",
       "    }\n",
       "\n",
       "    .dataframe tbody tr th {\n",
       "        vertical-align: top;\n",
       "    }\n",
       "\n",
       "    .dataframe thead th {\n",
       "        text-align: right;\n",
       "    }\n",
       "</style>\n",
       "<table border=\"1\" class=\"dataframe\">\n",
       "  <thead>\n",
       "    <tr style=\"text-align: right;\">\n",
       "      <th></th>\n",
       "      <th>work</th>\n",
       "      <th>derivativeWorkInfluencedBy</th>\n",
       "    </tr>\n",
       "  </thead>\n",
       "  <tbody>\n",
       "    <tr>\n",
       "      <th>0</th>\n",
       "      <td>438</td>\n",
       "      <td>739</td>\n",
       "    </tr>\n",
       "  </tbody>\n",
       "</table>\n",
       "</div>"
      ],
      "text/plain": [
       "   work  derivativeWorkInfluencedBy\n",
       "0   438                         739"
      ]
     },
     "execution_count": 93,
     "metadata": {},
     "output_type": "execute_result"
    }
   ],
   "source": [
    "q2_influenced_by = \"\"\"\n",
    "SELECT (COUNT(DISTINCT ?work) AS ?work) (COUNT(DISTINCT ?derivativeWork) AS ?derivativeWorkInfluencedBy)\n",
    "WHERE {\n",
    "    {\n",
    "      ?work wdt:P170 ?creator .\n",
    "     }UNION{\n",
    "      ?work wdt:P50 ?creator .                           \n",
    "     }UNION{\n",
    "      VALUES ?authorOf {wdt:P1455 wdt:P800}      \n",
    "      ?creator ?authorOf ?work .\n",
    "    }\n",
    "\n",
    "    ?derivativeWork wdt:P737 ?work . \n",
    "                              \n",
    "  SERVICE wikibase:label { bd:serviceParam wikibase:language \"en\". }\n",
    "}\n",
    "\"\"\"\n",
    "influenced_by_df2 = query_wikidata(endpoint, q2_influenced_by, user_agent, True)\n",
    "influenced_by_df2"
   ]
  },
  {
   "cell_type": "markdown",
   "metadata": {},
   "source": [
    "#### 2.1.3 Only definition of derivative work"
   ]
  },
  {
   "cell_type": "code",
   "execution_count": 94,
   "metadata": {},
   "outputs": [
    {
     "data": {
      "text/html": [
       "<div>\n",
       "<style scoped>\n",
       "    .dataframe tbody tr th:only-of-type {\n",
       "        vertical-align: middle;\n",
       "    }\n",
       "\n",
       "    .dataframe tbody tr th {\n",
       "        vertical-align: top;\n",
       "    }\n",
       "\n",
       "    .dataframe thead th {\n",
       "        text-align: right;\n",
       "    }\n",
       "</style>\n",
       "<table border=\"1\" class=\"dataframe\">\n",
       "  <thead>\n",
       "    <tr style=\"text-align: right;\">\n",
       "      <th></th>\n",
       "      <th>work</th>\n",
       "      <th>derivativeWorkInfluencedBy</th>\n",
       "    </tr>\n",
       "  </thead>\n",
       "  <tbody>\n",
       "    <tr>\n",
       "      <th>0</th>\n",
       "      <td>526</td>\n",
       "      <td>325</td>\n",
       "    </tr>\n",
       "  </tbody>\n",
       "</table>\n",
       "</div>"
      ],
      "text/plain": [
       "   work  derivativeWorkInfluencedBy\n",
       "0   526                         325"
      ]
     },
     "execution_count": 94,
     "metadata": {},
     "output_type": "execute_result"
    }
   ],
   "source": [
    "q3_influenced_by = \"\"\"\n",
    "SELECT (COUNT(DISTINCT ?work) AS ?work) (COUNT(DISTINCT ?derivativeWork) AS ?derivativeWorkInfluencedBy)\n",
    "WHERE {\n",
    "    {\n",
    "      ?derivativeWork wdt:P170 ?creator .\n",
    "     }UNION{\n",
    "      ?derivativeWork wdt:P50 ?creator .                           \n",
    "     }UNION{\n",
    "      VALUES ?authorOf {wdt:P1455 wdt:P800}      \n",
    "      ?creator ?authorOf ?derivativeWork .\n",
    "    }\n",
    "\n",
    "    ?derivativeWork wdt:P737 ?work . \n",
    "                              \n",
    "  SERVICE wikibase:label { bd:serviceParam wikibase:language \"en\". }\n",
    "}\n",
    "\"\"\"\n",
    "influenced_by_df3 = query_wikidata(endpoint, q3_influenced_by, user_agent, True)\n",
    "influenced_by_df3"
   ]
  },
  {
   "cell_type": "markdown",
   "metadata": {},
   "source": [
    "#### 2.1.4 Both definitions"
   ]
  },
  {
   "cell_type": "code",
   "execution_count": 97,
   "metadata": {},
   "outputs": [
    {
     "data": {
      "text/html": [
       "<div>\n",
       "<style scoped>\n",
       "    .dataframe tbody tr th:only-of-type {\n",
       "        vertical-align: middle;\n",
       "    }\n",
       "\n",
       "    .dataframe tbody tr th {\n",
       "        vertical-align: top;\n",
       "    }\n",
       "\n",
       "    .dataframe thead th {\n",
       "        text-align: right;\n",
       "    }\n",
       "</style>\n",
       "<table border=\"1\" class=\"dataframe\">\n",
       "  <thead>\n",
       "    <tr style=\"text-align: right;\">\n",
       "      <th></th>\n",
       "      <th>work</th>\n",
       "      <th>derivativeWorkInfluencedBy</th>\n",
       "    </tr>\n",
       "  </thead>\n",
       "  <tbody>\n",
       "    <tr>\n",
       "      <th>0</th>\n",
       "      <td>185</td>\n",
       "      <td>172</td>\n",
       "    </tr>\n",
       "  </tbody>\n",
       "</table>\n",
       "</div>"
      ],
      "text/plain": [
       "   work  derivativeWorkInfluencedBy\n",
       "0   185                         172"
      ]
     },
     "execution_count": 97,
     "metadata": {},
     "output_type": "execute_result"
    }
   ],
   "source": [
    "q4_influenced_by = \"\"\"\n",
    "SELECT (COUNT(DISTINCT ?work) AS ?work) (COUNT(DISTINCT ?derivativeWork) AS ?derivativeWorkInfluencedBy)\n",
    "WHERE {\n",
    "    {\n",
    "      ?work wdt:P170 ?creator .\n",
    "     }UNION{\n",
    "      ?work wdt:P50 ?creator .                           \n",
    "     }UNION{\n",
    "      VALUES ?authorOf {wdt:P1455 wdt:P800}      \n",
    "      ?creator ?authorOf ?work .\n",
    "    }\n",
    "    \n",
    "    {\n",
    "      ?derivativeWork wdt:P170 ?creator2 .\n",
    "     }UNION{\n",
    "      ?derivativeWork wdt:P50 ?creator2 .                           \n",
    "     }UNION{\n",
    "      VALUES ?authorOf {wdt:P1455 wdt:P800}      \n",
    "      ?creator2 ?authorOf ?derivativeWork .\n",
    "    }\n",
    "\n",
    "    ?derivativeWork wdt:P737 ?work . \n",
    "                              \n",
    "  SERVICE wikibase:label { bd:serviceParam wikibase:language \"en\". }\n",
    "}\n",
    "\"\"\"\n",
    "influenced_by_df4 = query_wikidata(endpoint, q4_influenced_by, user_agent, True)\n",
    "influenced_by_df4"
   ]
  },
  {
   "cell_type": "markdown",
   "metadata": {},
   "source": [
    "### 2.2 Based on (`P144`)"
   ]
  },
  {
   "cell_type": "markdown",
   "metadata": {},
   "source": [
    "#### 2.2.1 No definition of work and derivative work"
   ]
  },
  {
   "cell_type": "code",
   "execution_count": 99,
   "metadata": {},
   "outputs": [
    {
     "data": {
      "text/html": [
       "<div>\n",
       "<style scoped>\n",
       "    .dataframe tbody tr th:only-of-type {\n",
       "        vertical-align: middle;\n",
       "    }\n",
       "\n",
       "    .dataframe tbody tr th {\n",
       "        vertical-align: top;\n",
       "    }\n",
       "\n",
       "    .dataframe thead th {\n",
       "        text-align: right;\n",
       "    }\n",
       "</style>\n",
       "<table border=\"1\" class=\"dataframe\">\n",
       "  <thead>\n",
       "    <tr style=\"text-align: right;\">\n",
       "      <th></th>\n",
       "      <th>work</th>\n",
       "      <th>derivativeWorkBasedOn</th>\n",
       "    </tr>\n",
       "  </thead>\n",
       "  <tbody>\n",
       "    <tr>\n",
       "      <th>0</th>\n",
       "      <td>34834</td>\n",
       "      <td>52736</td>\n",
       "    </tr>\n",
       "  </tbody>\n",
       "</table>\n",
       "</div>"
      ],
      "text/plain": [
       "    work  derivativeWorkBasedOn\n",
       "0  34834                  52736"
      ]
     },
     "execution_count": 99,
     "metadata": {},
     "output_type": "execute_result"
    }
   ],
   "source": [
    "q1_based_on = \"\"\"\n",
    "SELECT  (COUNT(DISTINCT ?work) AS ?work) (COUNT(DISTINCT ?derivativeWork) AS ?derivativeWorkBasedOn)\n",
    "WHERE {\n",
    "\n",
    "    ?derivativeWork wdt:P144 ?work .\n",
    "                              \n",
    "  SERVICE wikibase:label { bd:serviceParam wikibase:language \"en\". }\n",
    "} \"\"\"\n",
    "\n",
    "based_on_df1 = query_wikidata(endpoint, q1_based_on, user_agent, True)\n",
    "based_on_df1"
   ]
  },
  {
   "cell_type": "markdown",
   "metadata": {},
   "source": [
    "#### 2.2.2 Only definition of work"
   ]
  },
  {
   "cell_type": "code",
   "execution_count": 100,
   "metadata": {},
   "outputs": [
    {
     "data": {
      "text/html": [
       "<div>\n",
       "<style scoped>\n",
       "    .dataframe tbody tr th:only-of-type {\n",
       "        vertical-align: middle;\n",
       "    }\n",
       "\n",
       "    .dataframe tbody tr th {\n",
       "        vertical-align: top;\n",
       "    }\n",
       "\n",
       "    .dataframe thead th {\n",
       "        text-align: right;\n",
       "    }\n",
       "</style>\n",
       "<table border=\"1\" class=\"dataframe\">\n",
       "  <thead>\n",
       "    <tr style=\"text-align: right;\">\n",
       "      <th></th>\n",
       "      <th>work</th>\n",
       "      <th>derivativeWorkBasedOn</th>\n",
       "    </tr>\n",
       "  </thead>\n",
       "  <tbody>\n",
       "    <tr>\n",
       "      <th>0</th>\n",
       "      <td>18822</td>\n",
       "      <td>32141</td>\n",
       "    </tr>\n",
       "  </tbody>\n",
       "</table>\n",
       "</div>"
      ],
      "text/plain": [
       "    work  derivativeWorkBasedOn\n",
       "0  18822                  32141"
      ]
     },
     "execution_count": 100,
     "metadata": {},
     "output_type": "execute_result"
    }
   ],
   "source": [
    "q2_based_on = \"\"\"\n",
    "SELECT  (COUNT(DISTINCT ?work) AS ?work) (COUNT(DISTINCT ?derivativeWork) AS ?derivativeWorkBasedOn)\n",
    "WHERE {\n",
    "    {\n",
    "      ?work wdt:P170 ?creator .\n",
    "     }UNION{\n",
    "      ?work wdt:P50 ?creator .                           \n",
    "     }UNION{\n",
    "      VALUES ?authorOf {wdt:P1455 wdt:P800}      \n",
    "      ?creator ?authorOf ?work .\n",
    "    }\n",
    "\n",
    "    ?derivativeWork wdt:P144 ?work .\n",
    "                              \n",
    "  SERVICE wikibase:label { bd:serviceParam wikibase:language \"en\". }\n",
    "} \"\"\"\n",
    "\n",
    "based_on_df2 = query_wikidata(endpoint, q2_based_on, user_agent, True)\n",
    "based_on_df2"
   ]
  },
  {
   "cell_type": "markdown",
   "metadata": {},
   "source": [
    "#### 2.2.3 Only definition of derivative work"
   ]
  },
  {
   "cell_type": "code",
   "execution_count": 102,
   "metadata": {},
   "outputs": [
    {
     "data": {
      "text/html": [
       "<div>\n",
       "<style scoped>\n",
       "    .dataframe tbody tr th:only-of-type {\n",
       "        vertical-align: middle;\n",
       "    }\n",
       "\n",
       "    .dataframe tbody tr th {\n",
       "        vertical-align: top;\n",
       "    }\n",
       "\n",
       "    .dataframe thead th {\n",
       "        text-align: right;\n",
       "    }\n",
       "</style>\n",
       "<table border=\"1\" class=\"dataframe\">\n",
       "  <thead>\n",
       "    <tr style=\"text-align: right;\">\n",
       "      <th></th>\n",
       "      <th>work</th>\n",
       "      <th>derivativeWorkBasedOn</th>\n",
       "    </tr>\n",
       "  </thead>\n",
       "  <tbody>\n",
       "    <tr>\n",
       "      <th>0</th>\n",
       "      <td>9461</td>\n",
       "      <td>12684</td>\n",
       "    </tr>\n",
       "  </tbody>\n",
       "</table>\n",
       "</div>"
      ],
      "text/plain": [
       "   work  derivativeWorkBasedOn\n",
       "0  9461                  12684"
      ]
     },
     "execution_count": 102,
     "metadata": {},
     "output_type": "execute_result"
    }
   ],
   "source": [
    "q3_based_on = \"\"\"\n",
    "SELECT  (COUNT(DISTINCT ?work) AS ?work) (COUNT(DISTINCT ?derivativeWork) AS ?derivativeWorkBasedOn)\n",
    "WHERE {\n",
    "    {\n",
    "      ?derivativeWork wdt:P170 ?creator .\n",
    "     }UNION{\n",
    "      ?derivativeWork wdt:P50 ?creator .                           \n",
    "     }UNION{\n",
    "      VALUES ?authorOf {wdt:P1455 wdt:P800}      \n",
    "      ?creator ?authorOf ?derivativeWork .\n",
    "    }\n",
    "\n",
    "    ?derivativeWork wdt:P144 ?work .\n",
    "                              \n",
    "  SERVICE wikibase:label { bd:serviceParam wikibase:language \"en\". }\n",
    "} \"\"\"\n",
    "\n",
    "based_on_df3 = query_wikidata(endpoint, q3_based_on, user_agent, True)\n",
    "based_on_df3"
   ]
  },
  {
   "cell_type": "markdown",
   "metadata": {},
   "source": [
    "#### 2.2.4 Both definitions"
   ]
  },
  {
   "cell_type": "code",
   "execution_count": 103,
   "metadata": {},
   "outputs": [
    {
     "data": {
      "text/html": [
       "<div>\n",
       "<style scoped>\n",
       "    .dataframe tbody tr th:only-of-type {\n",
       "        vertical-align: middle;\n",
       "    }\n",
       "\n",
       "    .dataframe tbody tr th {\n",
       "        vertical-align: top;\n",
       "    }\n",
       "\n",
       "    .dataframe thead th {\n",
       "        text-align: right;\n",
       "    }\n",
       "</style>\n",
       "<table border=\"1\" class=\"dataframe\">\n",
       "  <thead>\n",
       "    <tr style=\"text-align: right;\">\n",
       "      <th></th>\n",
       "      <th>work</th>\n",
       "      <th>derivativeWorkBasedOn</th>\n",
       "    </tr>\n",
       "  </thead>\n",
       "  <tbody>\n",
       "    <tr>\n",
       "      <th>0</th>\n",
       "      <td>7494</td>\n",
       "      <td>10025</td>\n",
       "    </tr>\n",
       "  </tbody>\n",
       "</table>\n",
       "</div>"
      ],
      "text/plain": [
       "   work  derivativeWorkBasedOn\n",
       "0  7494                  10025"
      ]
     },
     "execution_count": 103,
     "metadata": {},
     "output_type": "execute_result"
    }
   ],
   "source": [
    "q4_based_on = \"\"\"\n",
    "SELECT  (COUNT(DISTINCT ?work) AS ?work) (COUNT(DISTINCT ?derivativeWork) AS ?derivativeWorkBasedOn)\n",
    "WHERE {\n",
    "    {\n",
    "      ?work wdt:P170 ?creator .\n",
    "     }UNION{\n",
    "      ?work wdt:P50 ?creator .                           \n",
    "     }UNION{\n",
    "      VALUES ?authorOf {wdt:P1455 wdt:P800}      \n",
    "      ?creator ?authorOf ?work .\n",
    "    }\n",
    "    {\n",
    "      ?derivativeWork wdt:P170 ?creator2 .\n",
    "     }UNION{\n",
    "      ?derivativeWork wdt:P50 ?creator2 .                           \n",
    "     }UNION{\n",
    "      VALUES ?authorOf {wdt:P1455 wdt:P800}      \n",
    "      ?creator2 ?authorOf ?derivativeWork .\n",
    "    }\n",
    "\n",
    "    ?derivativeWork wdt:P144 ?work .\n",
    "                              \n",
    "  SERVICE wikibase:label { bd:serviceParam wikibase:language \"en\". }\n",
    "} \"\"\"\n",
    "\n",
    "based_on_df4 = query_wikidata(endpoint, q4_based_on, user_agent, True)\n",
    "based_on_df4"
   ]
  },
  {
   "cell_type": "markdown",
   "metadata": {},
   "source": [
    "### 2.3 Inspired By (`P941`)"
   ]
  },
  {
   "cell_type": "markdown",
   "metadata": {},
   "source": [
    "#### 2.3.1 No definition of work and derivative work"
   ]
  },
  {
   "cell_type": "code",
   "execution_count": 104,
   "metadata": {},
   "outputs": [
    {
     "data": {
      "text/html": [
       "<div>\n",
       "<style scoped>\n",
       "    .dataframe tbody tr th:only-of-type {\n",
       "        vertical-align: middle;\n",
       "    }\n",
       "\n",
       "    .dataframe tbody tr th {\n",
       "        vertical-align: top;\n",
       "    }\n",
       "\n",
       "    .dataframe thead th {\n",
       "        text-align: right;\n",
       "    }\n",
       "</style>\n",
       "<table border=\"1\" class=\"dataframe\">\n",
       "  <thead>\n",
       "    <tr style=\"text-align: right;\">\n",
       "      <th></th>\n",
       "      <th>work</th>\n",
       "      <th>derivativeWorkInspiredBy</th>\n",
       "    </tr>\n",
       "  </thead>\n",
       "  <tbody>\n",
       "    <tr>\n",
       "      <th>0</th>\n",
       "      <td>5448</td>\n",
       "      <td>5285</td>\n",
       "    </tr>\n",
       "  </tbody>\n",
       "</table>\n",
       "</div>"
      ],
      "text/plain": [
       "   work  derivativeWorkInspiredBy\n",
       "0  5448                      5285"
      ]
     },
     "execution_count": 104,
     "metadata": {},
     "output_type": "execute_result"
    }
   ],
   "source": [
    "q1_inspired_by = \"\"\"\n",
    "SELECT  (COUNT(DISTINCT ?work) AS ?work) (COUNT(DISTINCT ?derivativeWork) AS ?derivativeWorkInspiredBy)\n",
    "WHERE {\n",
    "\n",
    "    ?derivativeWork wdt:P941 ?work .\n",
    "                              \n",
    "  SERVICE wikibase:label { bd:serviceParam wikibase:language \"en\". }\n",
    "} \"\"\"\n",
    "\n",
    "inspired_by_df1 = query_wikidata(endpoint, q1_inspired_by, user_agent, True)\n",
    "inspired_by_df1"
   ]
  },
  {
   "cell_type": "markdown",
   "metadata": {},
   "source": [
    "#### 2.3.2 Only definition of work"
   ]
  },
  {
   "cell_type": "code",
   "execution_count": 105,
   "metadata": {},
   "outputs": [
    {
     "data": {
      "text/html": [
       "<div>\n",
       "<style scoped>\n",
       "    .dataframe tbody tr th:only-of-type {\n",
       "        vertical-align: middle;\n",
       "    }\n",
       "\n",
       "    .dataframe tbody tr th {\n",
       "        vertical-align: top;\n",
       "    }\n",
       "\n",
       "    .dataframe thead th {\n",
       "        text-align: right;\n",
       "    }\n",
       "</style>\n",
       "<table border=\"1\" class=\"dataframe\">\n",
       "  <thead>\n",
       "    <tr style=\"text-align: right;\">\n",
       "      <th></th>\n",
       "      <th>work</th>\n",
       "      <th>derivativeWorkInspiredBy</th>\n",
       "    </tr>\n",
       "  </thead>\n",
       "  <tbody>\n",
       "    <tr>\n",
       "      <th>0</th>\n",
       "      <td>1601</td>\n",
       "      <td>1766</td>\n",
       "    </tr>\n",
       "  </tbody>\n",
       "</table>\n",
       "</div>"
      ],
      "text/plain": [
       "   work  derivativeWorkInspiredBy\n",
       "0  1601                      1766"
      ]
     },
     "execution_count": 105,
     "metadata": {},
     "output_type": "execute_result"
    }
   ],
   "source": [
    "q2_inspired_by = \"\"\"\n",
    "SELECT  (COUNT(DISTINCT ?work) AS ?work) (COUNT(DISTINCT ?derivativeWork) AS ?derivativeWorkInspiredBy)\n",
    "WHERE {\n",
    "    {\n",
    "      ?work wdt:P170 ?creator .\n",
    "     }UNION{\n",
    "      ?work wdt:P50 ?creator .                           \n",
    "     }UNION{\n",
    "      VALUES ?authorOf {wdt:P1455 wdt:P800}      \n",
    "      ?creator ?authorOf ?work .\n",
    "    }\n",
    "\n",
    "    ?derivativeWork wdt:P941 ?work .\n",
    "                              \n",
    "  SERVICE wikibase:label { bd:serviceParam wikibase:language \"en\". }\n",
    "} \"\"\"\n",
    "\n",
    "inspired_by_df2 = query_wikidata(endpoint, q2_inspired_by, user_agent, True)\n",
    "inspired_by_df2"
   ]
  },
  {
   "cell_type": "markdown",
   "metadata": {},
   "source": [
    "#### 2.3.3 Only definition of derivative work"
   ]
  },
  {
   "cell_type": "code",
   "execution_count": 106,
   "metadata": {},
   "outputs": [
    {
     "data": {
      "text/html": [
       "<div>\n",
       "<style scoped>\n",
       "    .dataframe tbody tr th:only-of-type {\n",
       "        vertical-align: middle;\n",
       "    }\n",
       "\n",
       "    .dataframe tbody tr th {\n",
       "        vertical-align: top;\n",
       "    }\n",
       "\n",
       "    .dataframe thead th {\n",
       "        text-align: right;\n",
       "    }\n",
       "</style>\n",
       "<table border=\"1\" class=\"dataframe\">\n",
       "  <thead>\n",
       "    <tr style=\"text-align: right;\">\n",
       "      <th></th>\n",
       "      <th>work</th>\n",
       "      <th>derivativeWorkInspiredBy</th>\n",
       "    </tr>\n",
       "  </thead>\n",
       "  <tbody>\n",
       "    <tr>\n",
       "      <th>0</th>\n",
       "      <td>2281</td>\n",
       "      <td>2145</td>\n",
       "    </tr>\n",
       "  </tbody>\n",
       "</table>\n",
       "</div>"
      ],
      "text/plain": [
       "   work  derivativeWorkInspiredBy\n",
       "0  2281                      2145"
      ]
     },
     "execution_count": 106,
     "metadata": {},
     "output_type": "execute_result"
    }
   ],
   "source": [
    "q3_inspired_by = \"\"\"\n",
    "SELECT  (COUNT(DISTINCT ?work) AS ?work) (COUNT(DISTINCT ?derivativeWork) AS ?derivativeWorkInspiredBy)\n",
    "WHERE {\n",
    "    {\n",
    "      ?derivativeWork wdt:P170 ?creator .\n",
    "     }UNION{\n",
    "      ?derivativeWork wdt:P50 ?creator .                           \n",
    "     }UNION{\n",
    "      VALUES ?authorOf {wdt:P1455 wdt:P800}      \n",
    "      ?creator ?authorOf ?derivativeWork .\n",
    "    }\n",
    "\n",
    "    ?derivativeWork wdt:P941 ?work .\n",
    "                              \n",
    "  SERVICE wikibase:label { bd:serviceParam wikibase:language \"en\". }\n",
    "} \"\"\"\n",
    "\n",
    "inspired_by_df3 = query_wikidata(endpoint, q3_inspired_by, user_agent, True)\n",
    "inspired_by_df3"
   ]
  },
  {
   "cell_type": "markdown",
   "metadata": {},
   "source": [
    "#### 2.3.4 Both definitions"
   ]
  },
  {
   "cell_type": "code",
   "execution_count": 107,
   "metadata": {},
   "outputs": [
    {
     "data": {
      "text/html": [
       "<div>\n",
       "<style scoped>\n",
       "    .dataframe tbody tr th:only-of-type {\n",
       "        vertical-align: middle;\n",
       "    }\n",
       "\n",
       "    .dataframe tbody tr th {\n",
       "        vertical-align: top;\n",
       "    }\n",
       "\n",
       "    .dataframe thead th {\n",
       "        text-align: right;\n",
       "    }\n",
       "</style>\n",
       "<table border=\"1\" class=\"dataframe\">\n",
       "  <thead>\n",
       "    <tr style=\"text-align: right;\">\n",
       "      <th></th>\n",
       "      <th>work</th>\n",
       "      <th>derivativeWorkInspiredBy</th>\n",
       "    </tr>\n",
       "  </thead>\n",
       "  <tbody>\n",
       "    <tr>\n",
       "      <th>0</th>\n",
       "      <td>892</td>\n",
       "      <td>956</td>\n",
       "    </tr>\n",
       "  </tbody>\n",
       "</table>\n",
       "</div>"
      ],
      "text/plain": [
       "   work  derivativeWorkInspiredBy\n",
       "0   892                       956"
      ]
     },
     "execution_count": 107,
     "metadata": {},
     "output_type": "execute_result"
    }
   ],
   "source": [
    "q4_inspired_by = \"\"\"\n",
    "SELECT  (COUNT(DISTINCT ?work) AS ?work) (COUNT(DISTINCT ?derivativeWork) AS ?derivativeWorkInspiredBy)\n",
    "WHERE {\n",
    "    {\n",
    "      ?work wdt:P170 ?creator .\n",
    "     }UNION{\n",
    "      ?work wdt:P50 ?creator .                           \n",
    "     }UNION{\n",
    "      VALUES ?authorOf {wdt:P1455 wdt:P800}      \n",
    "      ?creator ?authorOf ?work .\n",
    "    }\n",
    "    {\n",
    "      ?derivativeWork wdt:P170 ?creator2 .\n",
    "     }UNION{\n",
    "      ?derivativeWork wdt:P50 ?creator2 .                           \n",
    "     }UNION{\n",
    "      VALUES ?authorOf {wdt:P1455 wdt:P800}      \n",
    "      ?creator2 ?authorOf ?derivativeWork .\n",
    "    }\n",
    "\n",
    "    ?derivativeWork wdt:P941 ?work .\n",
    "                              \n",
    "  SERVICE wikibase:label { bd:serviceParam wikibase:language \"en\". }\n",
    "} \"\"\"\n",
    "\n",
    "inspired_by_df4 = query_wikidata(endpoint, q4_inspired_by, user_agent, True)\n",
    "inspired_by_df4"
   ]
  },
  {
   "cell_type": "markdown",
   "metadata": {},
   "source": [
    "### 2.4 References Work (`P8371`)"
   ]
  },
  {
   "cell_type": "markdown",
   "metadata": {},
   "source": [
    "#### 2.4.1 No definition of work and derivative work"
   ]
  },
  {
   "cell_type": "code",
   "execution_count": 108,
   "metadata": {},
   "outputs": [
    {
     "data": {
      "text/html": [
       "<div>\n",
       "<style scoped>\n",
       "    .dataframe tbody tr th:only-of-type {\n",
       "        vertical-align: middle;\n",
       "    }\n",
       "\n",
       "    .dataframe tbody tr th {\n",
       "        vertical-align: top;\n",
       "    }\n",
       "\n",
       "    .dataframe thead th {\n",
       "        text-align: right;\n",
       "    }\n",
       "</style>\n",
       "<table border=\"1\" class=\"dataframe\">\n",
       "  <thead>\n",
       "    <tr style=\"text-align: right;\">\n",
       "      <th></th>\n",
       "      <th>work</th>\n",
       "      <th>derivativeWorkReferencesWork</th>\n",
       "    </tr>\n",
       "  </thead>\n",
       "  <tbody>\n",
       "    <tr>\n",
       "      <th>0</th>\n",
       "      <td>1250</td>\n",
       "      <td>591</td>\n",
       "    </tr>\n",
       "  </tbody>\n",
       "</table>\n",
       "</div>"
      ],
      "text/plain": [
       "   work  derivativeWorkReferencesWork\n",
       "0  1250                           591"
      ]
     },
     "execution_count": 108,
     "metadata": {},
     "output_type": "execute_result"
    }
   ],
   "source": [
    "q1_references_work = \"\"\"\n",
    "SELECT (COUNT(DISTINCT ?work) AS ?work) (COUNT(DISTINCT ?derivativeWork) AS ?derivativeWorkReferencesWork)\n",
    "WHERE {\n",
    "\n",
    "    ?derivativeWork wdt:P8371 ?work .\n",
    "                      \n",
    "  SERVICE wikibase:label { bd:serviceParam wikibase:language \"en\". }\n",
    "} \"\"\"\n",
    "\n",
    "references_work_df1 = query_wikidata(endpoint, q1_references_work, user_agent, True)\n",
    "references_work_df1"
   ]
  },
  {
   "cell_type": "markdown",
   "metadata": {},
   "source": [
    "#### 2.4.2 Only definition of work"
   ]
  },
  {
   "cell_type": "code",
   "execution_count": 109,
   "metadata": {},
   "outputs": [
    {
     "data": {
      "text/html": [
       "<div>\n",
       "<style scoped>\n",
       "    .dataframe tbody tr th:only-of-type {\n",
       "        vertical-align: middle;\n",
       "    }\n",
       "\n",
       "    .dataframe tbody tr th {\n",
       "        vertical-align: top;\n",
       "    }\n",
       "\n",
       "    .dataframe thead th {\n",
       "        text-align: right;\n",
       "    }\n",
       "</style>\n",
       "<table border=\"1\" class=\"dataframe\">\n",
       "  <thead>\n",
       "    <tr style=\"text-align: right;\">\n",
       "      <th></th>\n",
       "      <th>work</th>\n",
       "      <th>derivativeWorkReferencesWork</th>\n",
       "    </tr>\n",
       "  </thead>\n",
       "  <tbody>\n",
       "    <tr>\n",
       "      <th>0</th>\n",
       "      <td>605</td>\n",
       "      <td>364</td>\n",
       "    </tr>\n",
       "  </tbody>\n",
       "</table>\n",
       "</div>"
      ],
      "text/plain": [
       "   work  derivativeWorkReferencesWork\n",
       "0   605                           364"
      ]
     },
     "execution_count": 109,
     "metadata": {},
     "output_type": "execute_result"
    }
   ],
   "source": [
    "q2_references_work = \"\"\"\n",
    "SELECT (COUNT(DISTINCT ?work) AS ?work) (COUNT(DISTINCT ?derivativeWork) AS ?derivativeWorkReferencesWork)\n",
    "WHERE {\n",
    "    {\n",
    "      ?work wdt:P170 ?creator .\n",
    "     }UNION{\n",
    "      ?work wdt:P50 ?creator .                           \n",
    "     }UNION{\n",
    "      VALUES ?authorOf {wdt:P1455 wdt:P800}      \n",
    "      ?creator ?authorOf ?work .\n",
    "    }\n",
    "\n",
    "    ?derivativeWork wdt:P8371 ?work .\n",
    "                      \n",
    "  SERVICE wikibase:label { bd:serviceParam wikibase:language \"en\". }\n",
    "} \"\"\"\n",
    "\n",
    "references_work_df2 = query_wikidata(endpoint, q2_references_work, user_agent, True)\n",
    "references_work_df2"
   ]
  },
  {
   "cell_type": "markdown",
   "metadata": {},
   "source": [
    "#### 2.4.3 Only definition of derivative work"
   ]
  },
  {
   "cell_type": "code",
   "execution_count": 110,
   "metadata": {},
   "outputs": [
    {
     "data": {
      "text/html": [
       "<div>\n",
       "<style scoped>\n",
       "    .dataframe tbody tr th:only-of-type {\n",
       "        vertical-align: middle;\n",
       "    }\n",
       "\n",
       "    .dataframe tbody tr th {\n",
       "        vertical-align: top;\n",
       "    }\n",
       "\n",
       "    .dataframe thead th {\n",
       "        text-align: right;\n",
       "    }\n",
       "</style>\n",
       "<table border=\"1\" class=\"dataframe\">\n",
       "  <thead>\n",
       "    <tr style=\"text-align: right;\">\n",
       "      <th></th>\n",
       "      <th>work</th>\n",
       "      <th>derivativeWorkReferencesWork</th>\n",
       "    </tr>\n",
       "  </thead>\n",
       "  <tbody>\n",
       "    <tr>\n",
       "      <th>0</th>\n",
       "      <td>901</td>\n",
       "      <td>248</td>\n",
       "    </tr>\n",
       "  </tbody>\n",
       "</table>\n",
       "</div>"
      ],
      "text/plain": [
       "   work  derivativeWorkReferencesWork\n",
       "0   901                           248"
      ]
     },
     "execution_count": 110,
     "metadata": {},
     "output_type": "execute_result"
    }
   ],
   "source": [
    "q3_references_work = \"\"\"\n",
    "SELECT (COUNT(DISTINCT ?work) AS ?work) (COUNT(DISTINCT ?derivativeWork) AS ?derivativeWorkReferencesWork)\n",
    "WHERE {\n",
    "    {\n",
    "      ?derivativeWork wdt:P170 ?creator .\n",
    "     }UNION{\n",
    "      ?derivativeWork wdt:P50 ?creator .                           \n",
    "     }UNION{\n",
    "      VALUES ?authorOf {wdt:P1455 wdt:P800}      \n",
    "      ?creator ?authorOf ?derivativeWork .\n",
    "    }\n",
    "\n",
    "    ?derivativeWork wdt:P8371 ?work .\n",
    "                      \n",
    "  SERVICE wikibase:label { bd:serviceParam wikibase:language \"en\". }\n",
    "} \"\"\"\n",
    "\n",
    "references_work_df3 = query_wikidata(endpoint, q3_references_work, user_agent, True)\n",
    "references_work_df3"
   ]
  },
  {
   "cell_type": "markdown",
   "metadata": {},
   "source": [
    "#### 2.4.4 Both definitions"
   ]
  },
  {
   "cell_type": "code",
   "execution_count": 111,
   "metadata": {},
   "outputs": [
    {
     "data": {
      "text/html": [
       "<div>\n",
       "<style scoped>\n",
       "    .dataframe tbody tr th:only-of-type {\n",
       "        vertical-align: middle;\n",
       "    }\n",
       "\n",
       "    .dataframe tbody tr th {\n",
       "        vertical-align: top;\n",
       "    }\n",
       "\n",
       "    .dataframe thead th {\n",
       "        text-align: right;\n",
       "    }\n",
       "</style>\n",
       "<table border=\"1\" class=\"dataframe\">\n",
       "  <thead>\n",
       "    <tr style=\"text-align: right;\">\n",
       "      <th></th>\n",
       "      <th>work</th>\n",
       "      <th>derivativeWorkReferencesWork</th>\n",
       "    </tr>\n",
       "  </thead>\n",
       "  <tbody>\n",
       "    <tr>\n",
       "      <th>0</th>\n",
       "      <td>494</td>\n",
       "      <td>184</td>\n",
       "    </tr>\n",
       "  </tbody>\n",
       "</table>\n",
       "</div>"
      ],
      "text/plain": [
       "   work  derivativeWorkReferencesWork\n",
       "0   494                           184"
      ]
     },
     "execution_count": 111,
     "metadata": {},
     "output_type": "execute_result"
    }
   ],
   "source": [
    "q4_references_work = \"\"\"\n",
    "SELECT (COUNT(DISTINCT ?work) AS ?work) (COUNT(DISTINCT ?derivativeWork) AS ?derivativeWorkReferencesWork)\n",
    "WHERE {\n",
    "    {\n",
    "      ?work wdt:P170 ?creator .\n",
    "     }UNION{\n",
    "      ?work wdt:P50 ?creator .                           \n",
    "     }UNION{\n",
    "      VALUES ?authorOf {wdt:P1455 wdt:P800}      \n",
    "      ?creator ?authorOf ?work .\n",
    "    }\n",
    "    {\n",
    "      ?derivativeWork wdt:P170 ?creator2 .\n",
    "     }UNION{\n",
    "      ?derivativeWork wdt:P50 ?creator2 .                           \n",
    "     }UNION{\n",
    "      VALUES ?authorOf {wdt:P1455 wdt:P800}      \n",
    "      ?creator2 ?authorOf ?derivativeWork .\n",
    "    }\n",
    "\n",
    "    ?derivativeWork wdt:P8371 ?work .\n",
    "                      \n",
    "  SERVICE wikibase:label { bd:serviceParam wikibase:language \"en\". }\n",
    "} \"\"\"\n",
    "\n",
    "references_work_df4 = query_wikidata(endpoint, q4_references_work, user_agent, True)\n",
    "references_work_df4"
   ]
  },
  {
   "cell_type": "markdown",
   "metadata": {},
   "source": [
    "### 2.5 Derivative Work (`P4969`)"
   ]
  },
  {
   "cell_type": "markdown",
   "metadata": {},
   "source": [
    "#### 2.5.1 No definition of work and derivative work"
   ]
  },
  {
   "cell_type": "code",
   "execution_count": 113,
   "metadata": {},
   "outputs": [
    {
     "data": {
      "text/html": [
       "<div>\n",
       "<style scoped>\n",
       "    .dataframe tbody tr th:only-of-type {\n",
       "        vertical-align: middle;\n",
       "    }\n",
       "\n",
       "    .dataframe tbody tr th {\n",
       "        vertical-align: top;\n",
       "    }\n",
       "\n",
       "    .dataframe thead th {\n",
       "        text-align: right;\n",
       "    }\n",
       "</style>\n",
       "<table border=\"1\" class=\"dataframe\">\n",
       "  <thead>\n",
       "    <tr style=\"text-align: right;\">\n",
       "      <th></th>\n",
       "      <th>work</th>\n",
       "      <th>derivativeWork</th>\n",
       "    </tr>\n",
       "  </thead>\n",
       "  <tbody>\n",
       "    <tr>\n",
       "      <th>0</th>\n",
       "      <td>9265</td>\n",
       "      <td>15959</td>\n",
       "    </tr>\n",
       "  </tbody>\n",
       "</table>\n",
       "</div>"
      ],
      "text/plain": [
       "   work  derivativeWork\n",
       "0  9265           15959"
      ]
     },
     "execution_count": 113,
     "metadata": {},
     "output_type": "execute_result"
    }
   ],
   "source": [
    "q1_derivative_work = \"\"\"\n",
    "SELECT (COUNT(DISTINCT ?work) AS ?work) (COUNT(DISTINCT ?derivativeWork) AS ?derivativeWork)\n",
    "WHERE {\n",
    "    {\n",
    "      ?work wdt:P170 ?creator .\n",
    "     }UNION{\n",
    "      ?work wdt:P50 ?creator .                           \n",
    "     }UNION{\n",
    "      VALUES ?authorOf {wdt:P1455 wdt:P800}      \n",
    "      ?creator ?authorOf ?work .\n",
    "    }\n",
    "\n",
    "    ?work wdt:P4969 ?derivativeWork .\n",
    "\n",
    "  SERVICE wikibase:label { bd:serviceParam wikibase:language \"en\". }\n",
    "} \"\"\"\n",
    "\n",
    "derivative_work_df1 = query_wikidata(endpoint, q1_derivative_work, user_agent, True)\n",
    "derivative_work_df1"
   ]
  },
  {
   "cell_type": "markdown",
   "metadata": {},
   "source": [
    "#### 2.5.2 Only definition of work"
   ]
  },
  {
   "cell_type": "code",
   "execution_count": 114,
   "metadata": {},
   "outputs": [
    {
     "data": {
      "text/html": [
       "<div>\n",
       "<style scoped>\n",
       "    .dataframe tbody tr th:only-of-type {\n",
       "        vertical-align: middle;\n",
       "    }\n",
       "\n",
       "    .dataframe tbody tr th {\n",
       "        vertical-align: top;\n",
       "    }\n",
       "\n",
       "    .dataframe thead th {\n",
       "        text-align: right;\n",
       "    }\n",
       "</style>\n",
       "<table border=\"1\" class=\"dataframe\">\n",
       "  <thead>\n",
       "    <tr style=\"text-align: right;\">\n",
       "      <th></th>\n",
       "      <th>work</th>\n",
       "      <th>derivativeWork</th>\n",
       "    </tr>\n",
       "  </thead>\n",
       "  <tbody>\n",
       "    <tr>\n",
       "      <th>0</th>\n",
       "      <td>9265</td>\n",
       "      <td>15959</td>\n",
       "    </tr>\n",
       "  </tbody>\n",
       "</table>\n",
       "</div>"
      ],
      "text/plain": [
       "   work  derivativeWork\n",
       "0  9265           15959"
      ]
     },
     "execution_count": 114,
     "metadata": {},
     "output_type": "execute_result"
    }
   ],
   "source": [
    "q2_derivative_work = \"\"\"\n",
    "SELECT (COUNT(DISTINCT ?work) AS ?work) (COUNT(DISTINCT ?derivativeWork) AS ?derivativeWork)\n",
    "WHERE {\n",
    "    {\n",
    "      ?work wdt:P170 ?creator .\n",
    "     }UNION{\n",
    "      ?work wdt:P50 ?creator .                           \n",
    "     }UNION{\n",
    "      VALUES ?authorOf {wdt:P1455 wdt:P800}      \n",
    "      ?creator ?authorOf ?work .\n",
    "    }\n",
    "\n",
    "    ?work wdt:P4969 ?derivativeWork .\n",
    "\n",
    "  SERVICE wikibase:label { bd:serviceParam wikibase:language \"en\". }\n",
    "} \"\"\"\n",
    "\n",
    "derivative_work_df2 = query_wikidata(endpoint, q2_derivative_work, user_agent, True)\n",
    "derivative_work_df2"
   ]
  },
  {
   "cell_type": "markdown",
   "metadata": {},
   "source": [
    "#### 2.5.3 Only definition of derivative work"
   ]
  },
  {
   "cell_type": "code",
   "execution_count": 117,
   "metadata": {},
   "outputs": [
    {
     "data": {
      "text/html": [
       "<div>\n",
       "<style scoped>\n",
       "    .dataframe tbody tr th:only-of-type {\n",
       "        vertical-align: middle;\n",
       "    }\n",
       "\n",
       "    .dataframe tbody tr th {\n",
       "        vertical-align: top;\n",
       "    }\n",
       "\n",
       "    .dataframe thead th {\n",
       "        text-align: right;\n",
       "    }\n",
       "</style>\n",
       "<table border=\"1\" class=\"dataframe\">\n",
       "  <thead>\n",
       "    <tr style=\"text-align: right;\">\n",
       "      <th></th>\n",
       "      <th>work</th>\n",
       "      <th>derivativeWork</th>\n",
       "    </tr>\n",
       "  </thead>\n",
       "  <tbody>\n",
       "    <tr>\n",
       "      <th>0</th>\n",
       "      <td>3850</td>\n",
       "      <td>5084</td>\n",
       "    </tr>\n",
       "  </tbody>\n",
       "</table>\n",
       "</div>"
      ],
      "text/plain": [
       "   work  derivativeWork\n",
       "0  3850            5084"
      ]
     },
     "execution_count": 117,
     "metadata": {},
     "output_type": "execute_result"
    }
   ],
   "source": [
    "q4_derivative_work = \"\"\"\n",
    "SELECT (COUNT(DISTINCT ?work) AS ?work) (COUNT(DISTINCT ?derivativeWork) AS ?derivativeWork)\n",
    "WHERE {\n",
    "    {\n",
    "      ?work wdt:P170 ?creator .\n",
    "     }UNION{\n",
    "      ?work wdt:P50 ?creator .                           \n",
    "     }UNION{\n",
    "      VALUES ?authorOf {wdt:P1455 wdt:P800}      \n",
    "      ?creator ?authorOf ?work .\n",
    "    }\n",
    "    {\n",
    "      ?derivativeWork wdt:P170 ?creator2 .\n",
    "     }UNION{\n",
    "      ?derivativeWork wdt:P50 ?creator2 .                           \n",
    "     }UNION{\n",
    "      VALUES ?authorOf {wdt:P1455 wdt:P800}      \n",
    "      ?creator2 ?authorOf ?derivativeWork .\n",
    "    }\n",
    "\n",
    "    ?work wdt:P4969 ?derivativeWork .\n",
    "\n",
    "  SERVICE wikibase:label { bd:serviceParam wikibase:language \"en\". }\n",
    "} \"\"\"\n",
    "\n",
    "derivative_work_df4 = query_wikidata(endpoint, q4_derivative_work, user_agent, True)\n",
    "derivative_work_df4"
   ]
  },
  {
   "cell_type": "markdown",
   "metadata": {},
   "source": [
    "#### 2.5.4 Both definitions"
   ]
  },
  {
   "cell_type": "code",
   "execution_count": null,
   "metadata": {},
   "outputs": [],
   "source": [
    "q3_derivative_work = \"\"\"\n",
    "SELECT (COUNT(DISTINCT ?work) AS ?work) (COUNT(DISTINCT ?derivativeWork) AS ?derivativeWork)\n",
    "WHERE {\n",
    "    {\n",
    "      ?derivativeWork wdt:P170 ?creator .\n",
    "     }UNION{\n",
    "      ?derivativeWork wdt:P50 ?creator .                           \n",
    "     }UNION{\n",
    "      VALUES ?authorOf {wdt:P1455 wdt:P800}      \n",
    "      ?creator ?authorOf ?derivativeWork .\n",
    "    }\n",
    "\n",
    "    ?work wdt:P4969 ?derivativeWork .\n",
    "\n",
    "  SERVICE wikibase:label { bd:serviceParam wikibase:language \"en\". }\n",
    "} \"\"\"\n",
    "\n",
    "derivative_work_df3 = query_wikidata(endpoint, q3_derivative_work, user_agent, True)\n",
    "derivative_work_df3"
   ]
  },
  {
   "cell_type": "markdown",
   "metadata": {},
   "source": [
    "### 2.6 After a Work By (`P1877`)"
   ]
  },
  {
   "cell_type": "markdown",
   "metadata": {},
   "source": [
    "#### 2.6.1 No definition of work and derivative work"
   ]
  },
  {
   "cell_type": "code",
   "execution_count": 119,
   "metadata": {},
   "outputs": [
    {
     "data": {
      "text/html": [
       "<div>\n",
       "<style scoped>\n",
       "    .dataframe tbody tr th:only-of-type {\n",
       "        vertical-align: middle;\n",
       "    }\n",
       "\n",
       "    .dataframe tbody tr th {\n",
       "        vertical-align: top;\n",
       "    }\n",
       "\n",
       "    .dataframe thead th {\n",
       "        text-align: right;\n",
       "    }\n",
       "</style>\n",
       "<table border=\"1\" class=\"dataframe\">\n",
       "  <thead>\n",
       "    <tr style=\"text-align: right;\">\n",
       "      <th></th>\n",
       "      <th>creatorCount</th>\n",
       "      <th>derivativeWorkAfterWorkBy</th>\n",
       "    </tr>\n",
       "  </thead>\n",
       "  <tbody>\n",
       "    <tr>\n",
       "      <th>0</th>\n",
       "      <td>4830</td>\n",
       "      <td>12188</td>\n",
       "    </tr>\n",
       "  </tbody>\n",
       "</table>\n",
       "</div>"
      ],
      "text/plain": [
       "   creatorCount  derivativeWorkAfterWorkBy\n",
       "0          4830                      12188"
      ]
     },
     "execution_count": 119,
     "metadata": {},
     "output_type": "execute_result"
    }
   ],
   "source": [
    "q1_after_work_by = \"\"\"\n",
    "SELECT (COUNT(DISTINCT ?creator) AS ?creatorCount) (COUNT(DISTINCT ?derivativeWork) AS ?derivativeWorkAfterWorkBy)\n",
    "WHERE {\n",
    "\n",
    "    ?derivativeWork wdt:P1877 ?creator .\n",
    "      \n",
    "  SERVICE wikibase:label { bd:serviceParam wikibase:language \"en\". }\n",
    "} \"\"\"\n",
    "\n",
    "after_work_by_df1 = query_wikidata(endpoint, q1_after_work_by, user_agent, True)\n",
    "after_work_by_df1"
   ]
  },
  {
   "cell_type": "markdown",
   "metadata": {},
   "source": [
    "#### 2.6.2 Only definition of work"
   ]
  },
  {
   "cell_type": "code",
   "execution_count": 120,
   "metadata": {},
   "outputs": [
    {
     "data": {
      "text/html": [
       "<div>\n",
       "<style scoped>\n",
       "    .dataframe tbody tr th:only-of-type {\n",
       "        vertical-align: middle;\n",
       "    }\n",
       "\n",
       "    .dataframe tbody tr th {\n",
       "        vertical-align: top;\n",
       "    }\n",
       "\n",
       "    .dataframe thead th {\n",
       "        text-align: right;\n",
       "    }\n",
       "</style>\n",
       "<table border=\"1\" class=\"dataframe\">\n",
       "  <thead>\n",
       "    <tr style=\"text-align: right;\">\n",
       "      <th></th>\n",
       "      <th>creatorCount</th>\n",
       "      <th>derivativeWorkAfterWorkBy</th>\n",
       "    </tr>\n",
       "  </thead>\n",
       "  <tbody>\n",
       "    <tr>\n",
       "      <th>0</th>\n",
       "      <td>3898</td>\n",
       "      <td>10900</td>\n",
       "    </tr>\n",
       "  </tbody>\n",
       "</table>\n",
       "</div>"
      ],
      "text/plain": [
       "   creatorCount  derivativeWorkAfterWorkBy\n",
       "0          3898                      10900"
      ]
     },
     "execution_count": 120,
     "metadata": {},
     "output_type": "execute_result"
    }
   ],
   "source": [
    "q2_after_work_by = \"\"\"\n",
    "SELECT (COUNT(DISTINCT ?creator) AS ?creatorCount) (COUNT(DISTINCT ?derivativeWork) AS ?derivativeWorkAfterWorkBy)\n",
    "WHERE {\n",
    "    {\n",
    "      ?work wdt:P170 ?creator .\n",
    "     }UNION{\n",
    "      ?work wdt:P50 ?creator .                           \n",
    "     }UNION{\n",
    "      VALUES ?authorOf {wdt:P1455 wdt:P800}      \n",
    "      ?creator ?authorOf ?work .\n",
    "    }\n",
    "\n",
    "    ?derivativeWork wdt:P1877 ?creator .\n",
    "      \n",
    "  SERVICE wikibase:label { bd:serviceParam wikibase:language \"en\". }\n",
    "} \"\"\"\n",
    "\n",
    "after_work_by_df2 = query_wikidata(endpoint, q2_after_work_by, user_agent, True)\n",
    "after_work_by_df2"
   ]
  },
  {
   "cell_type": "markdown",
   "metadata": {},
   "source": [
    "#### 2.6.3 Only definition of derivative work"
   ]
  },
  {
   "cell_type": "code",
   "execution_count": 122,
   "metadata": {},
   "outputs": [
    {
     "data": {
      "text/html": [
       "<div>\n",
       "<style scoped>\n",
       "    .dataframe tbody tr th:only-of-type {\n",
       "        vertical-align: middle;\n",
       "    }\n",
       "\n",
       "    .dataframe tbody tr th {\n",
       "        vertical-align: top;\n",
       "    }\n",
       "\n",
       "    .dataframe thead th {\n",
       "        text-align: right;\n",
       "    }\n",
       "</style>\n",
       "<table border=\"1\" class=\"dataframe\">\n",
       "  <thead>\n",
       "    <tr style=\"text-align: right;\">\n",
       "      <th></th>\n",
       "      <th>creatorCount</th>\n",
       "      <th>derivativeWorkAfterWorkBy</th>\n",
       "    </tr>\n",
       "  </thead>\n",
       "  <tbody>\n",
       "    <tr>\n",
       "      <th>0</th>\n",
       "      <td>1685</td>\n",
       "      <td>5103</td>\n",
       "    </tr>\n",
       "  </tbody>\n",
       "</table>\n",
       "</div>"
      ],
      "text/plain": [
       "   creatorCount  derivativeWorkAfterWorkBy\n",
       "0          1685                       5103"
      ]
     },
     "execution_count": 122,
     "metadata": {},
     "output_type": "execute_result"
    }
   ],
   "source": [
    "q3_after_work_by = \"\"\"\n",
    "SELECT (COUNT(DISTINCT ?creator) AS ?creatorCount) (COUNT(DISTINCT ?derivativeWork) AS ?derivativeWorkAfterWorkBy)\n",
    "WHERE {\n",
    "    {\n",
    "      ?derivativeWork wdt:P170 ?creator2 .\n",
    "     }UNION{\n",
    "      ?derivativeWork wdt:P50 ?creator2 .                           \n",
    "     }UNION{\n",
    "      VALUES ?authorOf {wdt:P1455 wdt:P800}      \n",
    "      ?creator2 ?authorOf ?derivativeWork .\n",
    "    }\n",
    "\n",
    "    ?derivativeWork wdt:P1877 ?creator .\n",
    "      \n",
    "  SERVICE wikibase:label { bd:serviceParam wikibase:language \"en\". }\n",
    "} \"\"\"\n",
    "\n",
    "after_work_by_df3 = query_wikidata(endpoint, q3_after_work_by, user_agent, True)\n",
    "after_work_by_df3"
   ]
  },
  {
   "cell_type": "markdown",
   "metadata": {},
   "source": [
    "#### 2.6.4 Both definitions"
   ]
  },
  {
   "cell_type": "code",
   "execution_count": 123,
   "metadata": {},
   "outputs": [
    {
     "data": {
      "text/html": [
       "<div>\n",
       "<style scoped>\n",
       "    .dataframe tbody tr th:only-of-type {\n",
       "        vertical-align: middle;\n",
       "    }\n",
       "\n",
       "    .dataframe tbody tr th {\n",
       "        vertical-align: top;\n",
       "    }\n",
       "\n",
       "    .dataframe thead th {\n",
       "        text-align: right;\n",
       "    }\n",
       "</style>\n",
       "<table border=\"1\" class=\"dataframe\">\n",
       "  <thead>\n",
       "    <tr style=\"text-align: right;\">\n",
       "      <th></th>\n",
       "      <th>creatorCount</th>\n",
       "      <th>derivativeWorkAfterWorkBy</th>\n",
       "    </tr>\n",
       "  </thead>\n",
       "  <tbody>\n",
       "    <tr>\n",
       "      <th>0</th>\n",
       "      <td>1401</td>\n",
       "      <td>4531</td>\n",
       "    </tr>\n",
       "  </tbody>\n",
       "</table>\n",
       "</div>"
      ],
      "text/plain": [
       "   creatorCount  derivativeWorkAfterWorkBy\n",
       "0          1401                       4531"
      ]
     },
     "execution_count": 123,
     "metadata": {},
     "output_type": "execute_result"
    }
   ],
   "source": [
    "q4_after_work_by = \"\"\"\n",
    "SELECT (COUNT(DISTINCT ?creator) AS ?creatorCount) (COUNT(DISTINCT ?derivativeWork) AS ?derivativeWorkAfterWorkBy)\n",
    "WHERE {\n",
    "    {\n",
    "      ?work wdt:P170 ?creator .\n",
    "     }UNION{\n",
    "      ?work wdt:P50 ?creator .                           \n",
    "     }UNION{\n",
    "      VALUES ?authorOf {wdt:P1455 wdt:P800}      \n",
    "      ?creator ?authorOf ?work .\n",
    "    }\n",
    "    {\n",
    "      ?derivativeWork wdt:P170 ?creator2 .\n",
    "     }UNION{\n",
    "      ?derivativeWork wdt:P50 ?creator2 .                           \n",
    "     }UNION{\n",
    "      VALUES ?authorOf {wdt:P1455 wdt:P800}      \n",
    "      ?creator2 ?authorOf ?derivativeWork .\n",
    "    }\n",
    "\n",
    "    ?derivativeWork wdt:P1877 ?creator .\n",
    "      \n",
    "  SERVICE wikibase:label { bd:serviceParam wikibase:language \"en\". }\n",
    "} \"\"\"\n",
    "\n",
    "after_work_by_df4 = query_wikidata(endpoint, q4_after_work_by, user_agent, True)\n",
    "after_work_by_df4"
   ]
  }
 ],
 "metadata": {
  "kernelspec": {
   "display_name": "Python 3.10.0 64-bit",
   "language": "python",
   "name": "python3"
  },
  "language_info": {
   "codemirror_mode": {
    "name": "ipython",
    "version": 3
   },
   "file_extension": ".py",
   "mimetype": "text/x-python",
   "name": "python",
   "nbconvert_exporter": "python",
   "pygments_lexer": "ipython3",
   "version": "3.10.0"
  },
  "orig_nbformat": 4,
  "vscode": {
   "interpreter": {
    "hash": "aee8b7b246df8f9039afb4144a1f6fd8d2ca17a180786b69acc140d282b71a49"
   }
  }
 },
 "nbformat": 4,
 "nbformat_minor": 2
}
