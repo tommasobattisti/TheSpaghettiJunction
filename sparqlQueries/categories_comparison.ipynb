{
 "cells": [
  {
   "cell_type": "code",
   "execution_count": 1,
   "metadata": {},
   "outputs": [],
   "source": [
    "from pandas import *\n",
    "from queryWikidata import query_wikidata\n",
    "\n",
    "endpoint = \"https://query.wikidata.org/sparql\"\n",
    "user_agent = \"Mozilla/5.0 (Macintosh; Intel Mac OS X 10.15; rv:105.0) Gecko/20100101 Firefox/105.0\""
   ]
  },
  {
   "cell_type": "markdown",
   "metadata": {},
   "source": [
    "Since the films extracted in the \"categories.py\" file are described as `based on` some novels, in this notebook the data will be retrienved on the basis of this property (`P144` -> \"based on\"). "
   ]
  },
  {
   "cell_type": "markdown",
   "metadata": {},
   "source": [
    "## 1. Any kind of audiovisual work based on any kind of written work"
   ]
  },
  {
   "cell_type": "code",
   "execution_count": 2,
   "metadata": {},
   "outputs": [
    {
     "data": {
      "text/html": [
       "<div>\n",
       "<style scoped>\n",
       "    .dataframe tbody tr th:only-of-type {\n",
       "        vertical-align: middle;\n",
       "    }\n",
       "\n",
       "    .dataframe tbody tr th {\n",
       "        vertical-align: top;\n",
       "    }\n",
       "\n",
       "    .dataframe thead th {\n",
       "        text-align: right;\n",
       "    }\n",
       "</style>\n",
       "<table border=\"1\" class=\"dataframe\">\n",
       "  <thead>\n",
       "    <tr style=\"text-align: right;\">\n",
       "      <th></th>\n",
       "      <th>derivativeWork</th>\n",
       "    </tr>\n",
       "  </thead>\n",
       "  <tbody>\n",
       "    <tr>\n",
       "      <th>0</th>\n",
       "      <td>14883</td>\n",
       "    </tr>\n",
       "  </tbody>\n",
       "</table>\n",
       "</div>"
      ],
      "text/plain": [
       "   derivativeWork\n",
       "0           14883"
      ]
     },
     "execution_count": 2,
     "metadata": {},
     "output_type": "execute_result"
    }
   ],
   "source": [
    "query_audiovisual = \"\"\"\n",
    "SELECT (COUNT(DISTINCT ?derivativeWork) AS ?derivativeWork) \n",
    "WHERE {\n",
    "    {\n",
    "      ?work wdt:P31 wd:Q47461344 .\n",
    "    }UNION{\n",
    "      ?work wdt:P31/wdt:P279* wd:Q7725634 .\n",
    "    }\n",
    "    ?derivativeWork wdt:P31/wdt:P279* wd:Q2431196  .\n",
    "    ?derivativeWork wdt:P144 ?work .                           \n",
    "} \n",
    "\"\"\"\n",
    "audiovisual_df = query_wikidata(endpoint, query_audiovisual, user_agent, True)\n",
    "audiovisual_df"
   ]
  },
  {
   "cell_type": "markdown",
   "metadata": {},
   "source": [
    "## 2. Any kind of film based on any kind of written work"
   ]
  },
  {
   "cell_type": "code",
   "execution_count": 3,
   "metadata": {},
   "outputs": [
    {
     "data": {
      "text/html": [
       "<div>\n",
       "<style scoped>\n",
       "    .dataframe tbody tr th:only-of-type {\n",
       "        vertical-align: middle;\n",
       "    }\n",
       "\n",
       "    .dataframe tbody tr th {\n",
       "        vertical-align: top;\n",
       "    }\n",
       "\n",
       "    .dataframe thead th {\n",
       "        text-align: right;\n",
       "    }\n",
       "</style>\n",
       "<table border=\"1\" class=\"dataframe\">\n",
       "  <thead>\n",
       "    <tr style=\"text-align: right;\">\n",
       "      <th></th>\n",
       "      <th>derivativeWork</th>\n",
       "    </tr>\n",
       "  </thead>\n",
       "  <tbody>\n",
       "    <tr>\n",
       "      <th>0</th>\n",
       "      <td>11275</td>\n",
       "    </tr>\n",
       "  </tbody>\n",
       "</table>\n",
       "</div>"
      ],
      "text/plain": [
       "   derivativeWork\n",
       "0           11275"
      ]
     },
     "execution_count": 3,
     "metadata": {},
     "output_type": "execute_result"
    }
   ],
   "source": [
    "query_films = \"\"\"\n",
    "SELECT (COUNT(DISTINCT ?derivativeWork) AS ?derivativeWork) \n",
    "WHERE {\n",
    "  {\n",
    "    ?work wdt:P31 wd:Q47461344 .\n",
    "  }UNION{\n",
    "    ?work wdt:P31/wdt:P279* wd:Q7725634 .\n",
    "  }\n",
    "  ?derivativeWork wdt:P31/wdt:P279* wd:Q11424  .\n",
    "   ?derivativeWork wdt:P144 ?work .                           \n",
    "} \n",
    "\"\"\"\n",
    "films_df = query_wikidata(endpoint, query_films, user_agent, True)\n",
    "films_df"
   ]
  },
  {
   "cell_type": "markdown",
   "metadata": {},
   "source": [
    "## 3. Any kind of film based on any kind of literary work"
   ]
  },
  {
   "cell_type": "code",
   "execution_count": 4,
   "metadata": {},
   "outputs": [
    {
     "data": {
      "text/html": [
       "<div>\n",
       "<style scoped>\n",
       "    .dataframe tbody tr th:only-of-type {\n",
       "        vertical-align: middle;\n",
       "    }\n",
       "\n",
       "    .dataframe tbody tr th {\n",
       "        vertical-align: top;\n",
       "    }\n",
       "\n",
       "    .dataframe thead th {\n",
       "        text-align: right;\n",
       "    }\n",
       "</style>\n",
       "<table border=\"1\" class=\"dataframe\">\n",
       "  <thead>\n",
       "    <tr style=\"text-align: right;\">\n",
       "      <th></th>\n",
       "      <th>derivativeWork</th>\n",
       "    </tr>\n",
       "  </thead>\n",
       "  <tbody>\n",
       "    <tr>\n",
       "      <th>0</th>\n",
       "      <td>9462</td>\n",
       "    </tr>\n",
       "  </tbody>\n",
       "</table>\n",
       "</div>"
      ],
      "text/plain": [
       "   derivativeWork\n",
       "0            9462"
      ]
     },
     "execution_count": 4,
     "metadata": {},
     "output_type": "execute_result"
    }
   ],
   "source": [
    "query_films_literary_works = \"\"\"\n",
    "SELECT (COUNT(DISTINCT ?derivativeWork) AS ?derivativeWork) \n",
    "WHERE {\n",
    "  ?work wdt:P31/wdt:P279* wd:Q7725634 .\n",
    "  ?derivativeWork wdt:P31/wdt:P279* wd:Q11424  .\n",
    "  ?derivativeWork wdt:P144 ?work .                           \n",
    "} \n",
    "\"\"\"\n",
    "films_literary_works_df = query_wikidata(endpoint, query_films_literary_works, user_agent, True)\n",
    "films_literary_works_df"
   ]
  },
  {
   "cell_type": "markdown",
   "metadata": {},
   "source": [
    "### b. Any kind of film based on any kind of italian literary work"
   ]
  },
  {
   "cell_type": "code",
   "execution_count": 6,
   "metadata": {},
   "outputs": [
    {
     "data": {
      "text/html": [
       "<div>\n",
       "<style scoped>\n",
       "    .dataframe tbody tr th:only-of-type {\n",
       "        vertical-align: middle;\n",
       "    }\n",
       "\n",
       "    .dataframe tbody tr th {\n",
       "        vertical-align: top;\n",
       "    }\n",
       "\n",
       "    .dataframe thead th {\n",
       "        text-align: right;\n",
       "    }\n",
       "</style>\n",
       "<table border=\"1\" class=\"dataframe\">\n",
       "  <thead>\n",
       "    <tr style=\"text-align: right;\">\n",
       "      <th></th>\n",
       "      <th>derivativeWork</th>\n",
       "    </tr>\n",
       "  </thead>\n",
       "  <tbody>\n",
       "    <tr>\n",
       "      <th>0</th>\n",
       "      <td>141</td>\n",
       "    </tr>\n",
       "  </tbody>\n",
       "</table>\n",
       "</div>"
      ],
      "text/plain": [
       "   derivativeWork\n",
       "0             141"
      ]
     },
     "execution_count": 6,
     "metadata": {},
     "output_type": "execute_result"
    }
   ],
   "source": [
    "query_films_italian_literary_works = \"\"\"\n",
    "SELECT (COUNT(DISTINCT ?derivativeWork) AS ?derivativeWork) \n",
    "WHERE {\n",
    "  ?work wdt:P31/wdt:P279* wd:Q7725634 .\n",
    "  ?derivativeWork wdt:P31/wdt:P279* wd:Q11424  .\n",
    "  ?derivativeWork wdt:P144 ?work .   \n",
    "  \n",
    "  ?person wdt:P31 wd:Q5 ;\n",
    "            wdt:P27 ?country .                          #the block gets the writers having had the citizenship of a country, whose capital city is now an Italian city\n",
    "    ?country (wdt:P36 | p:P36 / ps:P36) ?capitalCity .  \n",
    "    ?capitalCity wdt:P31 wd:Q515 ; #get cities\n",
    "                  wdt:P17 wd:Q38 .\n",
    "\n",
    "\n",
    "    {\n",
    "      ?work wdt:P170 ?person .\n",
    "     }UNION{\n",
    "      ?work wdt:P50 ?person .                            \n",
    "     }UNION{\n",
    "      VALUES ?authorOf {wdt:P1455 wdt:P800}      \n",
    "      ?person ?authorOf ?work .\n",
    "    }\n",
    "                         \n",
    "}\n",
    "\"\"\"\n",
    "films_italian_literary_works_df = query_wikidata(endpoint, query_films_italian_literary_works, user_agent, True)\n",
    "films_italian_literary_works_df"
   ]
  },
  {
   "cell_type": "markdown",
   "metadata": {},
   "source": [
    "## 4. Any kind of film based of novels"
   ]
  },
  {
   "cell_type": "code",
   "execution_count": 5,
   "metadata": {},
   "outputs": [
    {
     "data": {
      "text/html": [
       "<div>\n",
       "<style scoped>\n",
       "    .dataframe tbody tr th:only-of-type {\n",
       "        vertical-align: middle;\n",
       "    }\n",
       "\n",
       "    .dataframe tbody tr th {\n",
       "        vertical-align: top;\n",
       "    }\n",
       "\n",
       "    .dataframe thead th {\n",
       "        text-align: right;\n",
       "    }\n",
       "</style>\n",
       "<table border=\"1\" class=\"dataframe\">\n",
       "  <thead>\n",
       "    <tr style=\"text-align: right;\">\n",
       "      <th></th>\n",
       "      <th>derivativeWork</th>\n",
       "    </tr>\n",
       "  </thead>\n",
       "  <tbody>\n",
       "    <tr>\n",
       "      <th>0</th>\n",
       "      <td>69</td>\n",
       "    </tr>\n",
       "  </tbody>\n",
       "</table>\n",
       "</div>"
      ],
      "text/plain": [
       "   derivativeWork\n",
       "0              69"
      ]
     },
     "execution_count": 5,
     "metadata": {},
     "output_type": "execute_result"
    }
   ],
   "source": [
    "query_films_novels = \"\"\"\n",
    "SELECT (COUNT(DISTINCT ?derivativeWork) AS ?derivativeWork) \n",
    "WHERE {\n",
    "  ?work wdt:P31 wd:Q8261 .\n",
    "  ?derivativeWork wdt:P31/wdt:P279* wd:Q11424  .\n",
    "  ?derivativeWork wdt:P144 ?work .                           \n",
    "} \n",
    "\"\"\"\n",
    "films_novels_df = query_wikidata(endpoint, query_films_novels, user_agent, True)\n",
    "films_novels_df"
   ]
  }
 ],
 "metadata": {
  "kernelspec": {
   "display_name": "Python 3.10.0 64-bit",
   "language": "python",
   "name": "python3"
  },
  "language_info": {
   "codemirror_mode": {
    "name": "ipython",
    "version": 3
   },
   "file_extension": ".py",
   "mimetype": "text/x-python",
   "name": "python",
   "nbconvert_exporter": "python",
   "pygments_lexer": "ipython3",
   "version": "3.10.0"
  },
  "orig_nbformat": 4,
  "vscode": {
   "interpreter": {
    "hash": "aee8b7b246df8f9039afb4144a1f6fd8d2ca17a180786b69acc140d282b71a49"
   }
  }
 },
 "nbformat": 4,
 "nbformat_minor": 2
}
