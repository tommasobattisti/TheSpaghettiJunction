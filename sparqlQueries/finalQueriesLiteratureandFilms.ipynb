{
 "cells": [
  {
   "cell_type": "markdown",
   "metadata": {},
   "source": [
    "# Queries related to literature and cinema in general (no country restriction)"
   ]
  },
  {
   "cell_type": "code",
   "execution_count": 1,
   "metadata": {},
   "outputs": [],
   "source": [
    "from pandas import *\n",
    "from queryWikidata import query_wikidata"
   ]
  },
  {
   "cell_type": "code",
   "execution_count": 2,
   "metadata": {},
   "outputs": [],
   "source": [
    "endpoint = \"https://query.wikidata.org/sparql\"\n",
    "user_agent = \"Mozilla/5.0 (Macintosh; Intel Mac OS X 10.15; rv:105.0) Gecko/20100101 Firefox/105.0\""
   ]
  },
  {
   "cell_type": "markdown",
   "metadata": {},
   "source": [
    "### 1.1 Only with work definition as writtten work"
   ]
  },
  {
   "cell_type": "code",
   "execution_count": 15,
   "metadata": {},
   "outputs": [
    {
     "data": {
      "text/html": [
       "<div>\n",
       "<style scoped>\n",
       "    .dataframe tbody tr th:only-of-type {\n",
       "        vertical-align: middle;\n",
       "    }\n",
       "\n",
       "    .dataframe tbody tr th {\n",
       "        vertical-align: top;\n",
       "    }\n",
       "\n",
       "    .dataframe thead th {\n",
       "        text-align: right;\n",
       "    }\n",
       "</style>\n",
       "<table border=\"1\" class=\"dataframe\">\n",
       "  <thead>\n",
       "    <tr style=\"text-align: right;\">\n",
       "      <th></th>\n",
       "      <th>derivativeWorksCount</th>\n",
       "    </tr>\n",
       "  </thead>\n",
       "  <tbody>\n",
       "    <tr>\n",
       "      <th>0</th>\n",
       "      <td>25819</td>\n",
       "    </tr>\n",
       "  </tbody>\n",
       "</table>\n",
       "</div>"
      ],
      "text/plain": [
       "   derivativeWorksCount\n",
       "0                 25819"
      ]
     },
     "execution_count": 15,
     "metadata": {},
     "output_type": "execute_result"
    }
   ],
   "source": [
    "q1_derivative_works = \"\"\"\n",
    "SELECT (COUNT(DISTINCT ?derivativeWork)AS ?derivativeWorksCount)\n",
    "WHERE {\n",
    "    {\n",
    "      VALUES ?p {wdt:P737 wdt:P144 wdt:P941 wdt:P8371 wdt:P4969}\n",
    "      ?derivativeWork ?p ?work .\n",
    "        {                                                  \n",
    "            ?work wdt:P31 wd:Q47461344 .\n",
    "        }UNION{\n",
    "            ?work wdt:P31 wd:Q7725634 .\n",
    "        }UNION{\n",
    "            ?work wdt:P31 wd:Q571 .\n",
    "        }UNION{\n",
    "            ?work wdt:P31 wd:Q3331189 .\n",
    "        }\n",
    "    }UNION{\n",
    "      ?derivativeWork wdt:P1877 ?creator .\n",
    "    }\n",
    "    \n",
    "}\n",
    "\"\"\"\n",
    "derivative_works_df1 = query_wikidata(endpoint, q1_derivative_works, user_agent, True)\n",
    "derivative_works_df1"
   ]
  },
  {
   "cell_type": "markdown",
   "metadata": {},
   "source": [
    "### 1.2 Only with definition of derivativeWork as everything having a director via `P57`"
   ]
  },
  {
   "cell_type": "code",
   "execution_count": 18,
   "metadata": {},
   "outputs": [
    {
     "data": {
      "text/html": [
       "<div>\n",
       "<style scoped>\n",
       "    .dataframe tbody tr th:only-of-type {\n",
       "        vertical-align: middle;\n",
       "    }\n",
       "\n",
       "    .dataframe tbody tr th {\n",
       "        vertical-align: top;\n",
       "    }\n",
       "\n",
       "    .dataframe thead th {\n",
       "        text-align: right;\n",
       "    }\n",
       "</style>\n",
       "<table border=\"1\" class=\"dataframe\">\n",
       "  <thead>\n",
       "    <tr style=\"text-align: right;\">\n",
       "      <th></th>\n",
       "      <th>derivativeWorksCount</th>\n",
       "    </tr>\n",
       "  </thead>\n",
       "  <tbody>\n",
       "    <tr>\n",
       "      <th>0</th>\n",
       "      <td>19654</td>\n",
       "    </tr>\n",
       "  </tbody>\n",
       "</table>\n",
       "</div>"
      ],
      "text/plain": [
       "   derivativeWorksCount\n",
       "0                 19654"
      ]
     },
     "execution_count": 18,
     "metadata": {},
     "output_type": "execute_result"
    }
   ],
   "source": [
    "q3_derivative_works = \"\"\" \n",
    "SELECT (COUNT(DISTINCT ?derivativeWork)AS ?derivativeWorksCount)\n",
    "WHERE {\n",
    "    {\n",
    "      VALUES ?p {wdt:P737 wdt:P144 wdt:P941 wdt:P8371 wdt:P4969} \n",
    "      ?derivativeWork ?p ?work .\n",
    "    }UNION{\n",
    "      ?derivativeWork wdt:P1877 ?creator .\n",
    "    }\n",
    "  ?derivativeWork wdt:P57 ?director .\n",
    "}\n",
    "\"\"\"\n",
    "derivative_works_df3 = query_wikidata(endpoint, q3_derivative_works, user_agent, True)\n",
    "derivative_works_df3"
   ]
  },
  {
   "cell_type": "markdown",
   "metadata": {},
   "source": [
    "### 1.3 With both definitions of work as written work and derivativeWork as everything having a director via `P57`"
   ]
  },
  {
   "cell_type": "code",
   "execution_count": 17,
   "metadata": {},
   "outputs": [
    {
     "data": {
      "text/html": [
       "<div>\n",
       "<style scoped>\n",
       "    .dataframe tbody tr th:only-of-type {\n",
       "        vertical-align: middle;\n",
       "    }\n",
       "\n",
       "    .dataframe tbody tr th {\n",
       "        vertical-align: top;\n",
       "    }\n",
       "\n",
       "    .dataframe thead th {\n",
       "        text-align: right;\n",
       "    }\n",
       "</style>\n",
       "<table border=\"1\" class=\"dataframe\">\n",
       "  <thead>\n",
       "    <tr style=\"text-align: right;\">\n",
       "      <th></th>\n",
       "      <th>derivativeWorksCount</th>\n",
       "    </tr>\n",
       "  </thead>\n",
       "  <tbody>\n",
       "    <tr>\n",
       "      <th>0</th>\n",
       "      <td>13612</td>\n",
       "    </tr>\n",
       "  </tbody>\n",
       "</table>\n",
       "</div>"
      ],
      "text/plain": [
       "   derivativeWorksCount\n",
       "0                 13612"
      ]
     },
     "execution_count": 17,
     "metadata": {},
     "output_type": "execute_result"
    }
   ],
   "source": [
    "q2_derivative_works = \"\"\" \n",
    "SELECT (COUNT(DISTINCT ?derivativeWork)AS ?derivativeWorksCount)\n",
    "WHERE {\n",
    "    {\n",
    "      VALUES ?p {wdt:P737 wdt:P144 wdt:P941 wdt:P8371 wdt:P4969} \n",
    "      ?derivativeWork ?p ?work .\n",
    "        {                                                  \n",
    "            ?work wdt:P31 wd:Q47461344 .\n",
    "        }UNION{\n",
    "            ?work wdt:P31 wd:Q7725634 .\n",
    "        }UNION{\n",
    "            ?work wdt:P31 wd:Q571 .\n",
    "        }UNION{\n",
    "            ?work wdt:P31 wd:Q3331189 .\n",
    "        }\n",
    "    }UNION{\n",
    "      ?derivativeWork wdt:P1877 ?creator .\n",
    "    }\n",
    "  ?derivativeWork wdt:P57 ?director .\n",
    "}\n",
    "\"\"\"\n",
    "derivative_works_df2 = query_wikidata(endpoint, q2_derivative_works, user_agent, True)\n",
    "derivative_works_df2"
   ]
  }
 ],
 "metadata": {
  "kernelspec": {
   "display_name": "Python 3.10.0 64-bit",
   "language": "python",
   "name": "python3"
  },
  "language_info": {
   "codemirror_mode": {
    "name": "ipython",
    "version": 3
   },
   "file_extension": ".py",
   "mimetype": "text/x-python",
   "name": "python",
   "nbconvert_exporter": "python",
   "pygments_lexer": "ipython3",
   "version": "3.10.0"
  },
  "orig_nbformat": 4,
  "vscode": {
   "interpreter": {
    "hash": "aee8b7b246df8f9039afb4144a1f6fd8d2ca17a180786b69acc140d282b71a49"
   }
  }
 },
 "nbformat": 4,
 "nbformat_minor": 2
}
